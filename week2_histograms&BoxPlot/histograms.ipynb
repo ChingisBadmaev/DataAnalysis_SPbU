{
 "cells": [
  {
   "cell_type": "code",
   "execution_count": 89,
   "metadata": {},
   "outputs": [
    {
     "data": {
      "text/html": [
       "<div>\n",
       "<style scoped>\n",
       "    .dataframe tbody tr th:only-of-type {\n",
       "        vertical-align: middle;\n",
       "    }\n",
       "\n",
       "    .dataframe tbody tr th {\n",
       "        vertical-align: top;\n",
       "    }\n",
       "\n",
       "    .dataframe thead th {\n",
       "        text-align: right;\n",
       "    }\n",
       "</style>\n",
       "<table border=\"1\" class=\"dataframe\">\n",
       "  <thead>\n",
       "    <tr style=\"text-align: right;\">\n",
       "      <th></th>\n",
       "      <th>product_code</th>\n",
       "      <th>product_name</th>\n",
       "    </tr>\n",
       "  </thead>\n",
       "  <tbody>\n",
       "    <tr>\n",
       "      <th>0</th>\n",
       "      <td>821001</td>\n",
       "      <td>Кофе ЭСПРЕССО  30 мл</td>\n",
       "    </tr>\n",
       "    <tr>\n",
       "      <th>1</th>\n",
       "      <td>821002</td>\n",
       "      <td>Кофе ДОППИО 60мл</td>\n",
       "    </tr>\n",
       "    <tr>\n",
       "      <th>2</th>\n",
       "      <td>821003</td>\n",
       "      <td>Кофе РИСТРЕТТО  20 мл</td>\n",
       "    </tr>\n",
       "    <tr>\n",
       "      <th>3</th>\n",
       "      <td>821004</td>\n",
       "      <td>Фильтр кофе Верньяно250мл</td>\n",
       "    </tr>\n",
       "    <tr>\n",
       "      <th>4</th>\n",
       "      <td>821005</td>\n",
       "      <td>Кофе ЛУНГО  50 мл</td>\n",
       "    </tr>\n",
       "    <tr>\n",
       "      <th>...</th>\n",
       "      <td>...</td>\n",
       "      <td>...</td>\n",
       "    </tr>\n",
       "    <tr>\n",
       "      <th>9781</th>\n",
       "      <td>894094</td>\n",
       "      <td>Тофи-тофу 160г</td>\n",
       "    </tr>\n",
       "    <tr>\n",
       "      <th>9782</th>\n",
       "      <td>894095</td>\n",
       "      <td>Япончики 90г</td>\n",
       "    </tr>\n",
       "    <tr>\n",
       "      <th>9783</th>\n",
       "      <td>894096</td>\n",
       "      <td>Мо Мо 120г</td>\n",
       "    </tr>\n",
       "    <tr>\n",
       "      <th>9784</th>\n",
       "      <td>894097</td>\n",
       "      <td>Салат грейпфрут-манго п/ф</td>\n",
       "    </tr>\n",
       "    <tr>\n",
       "      <th>9785</th>\n",
       "      <td>894098</td>\n",
       "      <td>Фруктовый десерт 200г</td>\n",
       "    </tr>\n",
       "  </tbody>\n",
       "</table>\n",
       "<p>9786 rows × 2 columns</p>\n",
       "</div>"
      ],
      "text/plain": [
       "     product_code               product_name\n",
       "0          821001       Кофе ЭСПРЕССО  30 мл\n",
       "1          821002           Кофе ДОППИО 60мл\n",
       "2          821003      Кофе РИСТРЕТТО  20 мл\n",
       "3          821004  Фильтр кофе Верньяно250мл\n",
       "4          821005          Кофе ЛУНГО  50 мл\n",
       "...           ...                        ...\n",
       "9781       894094             Тофи-тофу 160г\n",
       "9782       894095               Япончики 90г\n",
       "9783       894096                 Мо Мо 120г\n",
       "9784       894097  Салат грейпфрут-манго п/ф\n",
       "9785       894098      Фруктовый десерт 200г\n",
       "\n",
       "[9786 rows x 2 columns]"
      ]
     },
     "execution_count": 89,
     "metadata": {},
     "output_type": "execute_result"
    }
   ],
   "source": [
    "import matplotlib.pyplot as plt\n",
    "import seaborn as sns\n",
    "import pandas as pd\n",
    "import numpy as np\n",
    "\n",
    "data_SALE_LIST = pd.read_csv('SALE_LIST.csv', sep=';')\n",
    "data_SALE_LIST['date'] = data_SALE_LIST['date'].apply(lambda x: x[6:])\n",
    "\n",
    "dt_PRODUCT_LIST = pd.read_csv('PRODUCT_LIST.CSV', encoding='cp1251')\n",
    "Temp = dt_PRODUCT_LIST['Product_code;Product_name;;'].apply(lambda x: str.split(x, ';'))\n",
    "dt_PRODUCT_LIST['product_code'] = Temp.apply(lambda x: x[0])\n",
    "dt_PRODUCT_LIST['product_name'] = Temp.apply(lambda x: x[1])\n",
    "dt_PRODUCT_LIST = dt_PRODUCT_LIST.drop(['Product_code;Product_name;;'], axis=1)\n",
    "dt_PRODUCT_LIST"
   ]
  },
  {
   "cell_type": "code",
   "execution_count": 47,
   "metadata": {},
   "outputs": [
    {
     "data": {
      "text/html": [
       "<div>\n",
       "<style scoped>\n",
       "    .dataframe tbody tr th:only-of-type {\n",
       "        vertical-align: middle;\n",
       "    }\n",
       "\n",
       "    .dataframe tbody tr th {\n",
       "        vertical-align: top;\n",
       "    }\n",
       "\n",
       "    .dataframe thead th {\n",
       "        text-align: right;\n",
       "    }\n",
       "</style>\n",
       "<table border=\"1\" class=\"dataframe\">\n",
       "  <thead>\n",
       "    <tr style=\"text-align: right;\">\n",
       "      <th></th>\n",
       "      <th>date</th>\n",
       "      <th>product_code</th>\n",
       "      <th>rest_code</th>\n",
       "      <th>product_count</th>\n",
       "    </tr>\n",
       "  </thead>\n",
       "  <tbody>\n",
       "    <tr>\n",
       "      <th>0</th>\n",
       "      <td>2009</td>\n",
       "      <td>824021</td>\n",
       "      <td>ќзерный</td>\n",
       "      <td>4</td>\n",
       "    </tr>\n",
       "    <tr>\n",
       "      <th>1</th>\n",
       "      <td>2009</td>\n",
       "      <td>824068</td>\n",
       "      <td>ќзерный</td>\n",
       "      <td>1</td>\n",
       "    </tr>\n",
       "    <tr>\n",
       "      <th>2</th>\n",
       "      <td>2009</td>\n",
       "      <td>824070</td>\n",
       "      <td>ќзерный</td>\n",
       "      <td>2</td>\n",
       "    </tr>\n",
       "    <tr>\n",
       "      <th>3</th>\n",
       "      <td>2009</td>\n",
       "      <td>824073</td>\n",
       "      <td>ќзерный</td>\n",
       "      <td>1</td>\n",
       "    </tr>\n",
       "    <tr>\n",
       "      <th>4</th>\n",
       "      <td>2009</td>\n",
       "      <td>824074</td>\n",
       "      <td>ќзерный</td>\n",
       "      <td>1</td>\n",
       "    </tr>\n",
       "    <tr>\n",
       "      <th>...</th>\n",
       "      <td>...</td>\n",
       "      <td>...</td>\n",
       "      <td>...</td>\n",
       "      <td>...</td>\n",
       "    </tr>\n",
       "    <tr>\n",
       "      <th>135915</th>\n",
       "      <td>2013</td>\n",
       "      <td>892545</td>\n",
       "      <td>ћечта</td>\n",
       "      <td>3</td>\n",
       "    </tr>\n",
       "    <tr>\n",
       "      <th>135916</th>\n",
       "      <td>2013</td>\n",
       "      <td>892545</td>\n",
       "      <td>ћечта</td>\n",
       "      <td>1</td>\n",
       "    </tr>\n",
       "    <tr>\n",
       "      <th>135917</th>\n",
       "      <td>2013</td>\n",
       "      <td>892545</td>\n",
       "      <td>ћечта</td>\n",
       "      <td>3</td>\n",
       "    </tr>\n",
       "    <tr>\n",
       "      <th>135918</th>\n",
       "      <td>2013</td>\n",
       "      <td>892545</td>\n",
       "      <td>ћечта</td>\n",
       "      <td>4</td>\n",
       "    </tr>\n",
       "    <tr>\n",
       "      <th>135919</th>\n",
       "      <td>2013</td>\n",
       "      <td>892545</td>\n",
       "      <td>ћечта</td>\n",
       "      <td>1</td>\n",
       "    </tr>\n",
       "  </tbody>\n",
       "</table>\n",
       "<p>135920 rows × 4 columns</p>\n",
       "</div>"
      ],
      "text/plain": [
       "        date  product_code rest_code  product_count\n",
       "0       2009        824021   ќзерный              4\n",
       "1       2009        824068   ќзерный              1\n",
       "2       2009        824070   ќзерный              2\n",
       "3       2009        824073   ќзерный              1\n",
       "4       2009        824074   ќзерный              1\n",
       "...      ...           ...       ...            ...\n",
       "135915  2013        892545     ћечта              3\n",
       "135916  2013        892545     ћечта              1\n",
       "135917  2013        892545     ћечта              3\n",
       "135918  2013        892545     ћечта              4\n",
       "135919  2013        892545     ћечта              1\n",
       "\n",
       "[135920 rows x 4 columns]"
      ]
     },
     "execution_count": 47,
     "metadata": {},
     "output_type": "execute_result"
    }
   ],
   "source": [
    "product_sales_volume = data_SALE_LIST.groupby('product_code').sum()\n",
    "\n",
    "# отсортированный по возрастанию объем продажи продукта\n",
    "product_sales_volume_sort = product_sales_volume.sort_values(by='product_count', ascending=False)\n",
    "\n",
    "best_selling_products = product_sales_volume_sort.head(10)\n",
    "\n",
    "worst_selling_products = product_sales_volume_sort.tail(10)\n",
    "data_SALE_LIST"
   ]
  },
  {
   "cell_type": "code",
   "execution_count": 4,
   "metadata": {},
   "outputs": [
    {
     "data": {
      "text/plain": [
       "<matplotlib.axes._subplots.AxesSubplot at 0x16a2da8a6d0>"
      ]
     },
     "execution_count": 4,
     "metadata": {},
     "output_type": "execute_result"
    },
    {
     "data": {
      "image/png": "[encoded data removed]",
      "text/plain": [
       "<Figure size 432x288 with 1 Axes>"
      ]
     },
     "metadata": {
      "needs_background": "light"
     },
     "output_type": "display_data"
    }
   ],
   "source": [
    "sns.distplot(best_selling_products['product_count'], hist=True, kde=False,  norm_hist=False, bins=np.linspace(0, 180000), color='blue', hist_kws={'edgecolor':'black'})"
   ]
  },
  {
   "cell_type": "code",
   "execution_count": 5,
   "metadata": {},
   "outputs": [
    {
     "data": {
      "text/plain": [
       "<matplotlib.axes._subplots.AxesSubplot at 0x16a33b01af0>"
      ]
     },
     "execution_count": 5,
     "metadata": {},
     "output_type": "execute_result"
    },
    {
     "data": {
      "image/png": "[encoded data removed]",
      "text/plain": [
       "<Figure size 432x288 with 1 Axes>"
      ]
     },
     "metadata": {
      "needs_background": "light"
     },
     "output_type": "display_data"
    }
   ],
   "source": [
    "sns.distplot(worst_selling_products['product_count'], hist=True, kde=False,  norm_hist=False, bins=np.linspace(0, 140), color='blue', hist_kws={'edgecolor':'black'})"
   ]
  },
  {
   "cell_type": "code",
   "execution_count": 6,
   "metadata": {},
   "outputs": [
    {
     "data": {
      "text/html": [
       "<div>\n",
       "<style scoped>\n",
       "    .dataframe tbody tr th:only-of-type {\n",
       "        vertical-align: middle;\n",
       "    }\n",
       "\n",
       "    .dataframe tbody tr th {\n",
       "        vertical-align: top;\n",
       "    }\n",
       "\n",
       "    .dataframe thead th {\n",
       "        text-align: right;\n",
       "    }\n",
       "</style>\n",
       "<table border=\"1\" class=\"dataframe\">\n",
       "  <thead>\n",
       "    <tr style=\"text-align: right;\">\n",
       "      <th></th>\n",
       "      <th>product_code</th>\n",
       "      <th>product_count</th>\n",
       "    </tr>\n",
       "  </thead>\n",
       "  <tbody>\n",
       "    <tr>\n",
       "      <th>0</th>\n",
       "      <td>821001</td>\n",
       "      <td>115551</td>\n",
       "    </tr>\n",
       "    <tr>\n",
       "      <th>1</th>\n",
       "      <td>821002</td>\n",
       "      <td>16664</td>\n",
       "    </tr>\n",
       "    <tr>\n",
       "      <th>2</th>\n",
       "      <td>821005</td>\n",
       "      <td>26838</td>\n",
       "    </tr>\n",
       "    <tr>\n",
       "      <th>3</th>\n",
       "      <td>821012</td>\n",
       "      <td>115652</td>\n",
       "    </tr>\n",
       "    <tr>\n",
       "      <th>4</th>\n",
       "      <td>821146</td>\n",
       "      <td>23335</td>\n",
       "    </tr>\n",
       "    <tr>\n",
       "      <th>...</th>\n",
       "      <td>...</td>\n",
       "      <td>...</td>\n",
       "    </tr>\n",
       "    <tr>\n",
       "      <th>105</th>\n",
       "      <td>892533</td>\n",
       "      <td>744</td>\n",
       "    </tr>\n",
       "    <tr>\n",
       "      <th>106</th>\n",
       "      <td>892545</td>\n",
       "      <td>56</td>\n",
       "    </tr>\n",
       "    <tr>\n",
       "      <th>107</th>\n",
       "      <td>892554</td>\n",
       "      <td>146</td>\n",
       "    </tr>\n",
       "    <tr>\n",
       "      <th>108</th>\n",
       "      <td>892557</td>\n",
       "      <td>90</td>\n",
       "    </tr>\n",
       "    <tr>\n",
       "      <th>109</th>\n",
       "      <td>894098</td>\n",
       "      <td>143</td>\n",
       "    </tr>\n",
       "  </tbody>\n",
       "</table>\n",
       "<p>110 rows × 2 columns</p>\n",
       "</div>"
      ],
      "text/plain": [
       "     product_code  product_count\n",
       "0          821001         115551\n",
       "1          821002          16664\n",
       "2          821005          26838\n",
       "3          821012         115652\n",
       "4          821146          23335\n",
       "..            ...            ...\n",
       "105        892533            744\n",
       "106        892545             56\n",
       "107        892554            146\n",
       "108        892557             90\n",
       "109        894098            143\n",
       "\n",
       "[110 rows x 2 columns]"
      ]
     },
     "execution_count": 6,
     "metadata": {},
     "output_type": "execute_result"
    }
   ],
   "source": [
    "product_sales_volume.reset_index()"
   ]
  },
  {
   "cell_type": "code",
   "execution_count": 108,
   "metadata": {},
   "outputs": [],
   "source": [
    "data_rest_kzernii = data_SALE_LIST['rest_code'] == 'ќзерный'\n",
    "one_rest_product = data_SALE_LIST[data_rest_kzernii].groupby('product_code').sum().reset_index()\n",
    "one_rest_product_head5 = one_rest_product.sort_values(by='product_count', ascending=False).head()\n",
    "one_rest_product_tail5 = one_rest_product.sort_values(by='product_count', ascending=False).tail()"
   ]
  },
  {
   "cell_type": "code",
   "execution_count": 109,
   "metadata": {},
   "outputs": [],
   "source": [
    "two_rest_product = data_SALE_LIST[~data_rest_kzernii].groupby('product_code').sum().reset_index()\n",
    "two_rest_product_head5 = two_rest_product.sort_values(by='product_count', ascending=False).head()\n",
    "two_rest_product_tail5 = two_rest_product.sort_values(by='product_count', ascending=False).tail()"
   ]
  },
  {
   "cell_type": "code",
   "execution_count": 110,
   "metadata": {},
   "outputs": [],
   "source": [
    "one_rest_product_head5 = one_rest_product_head5.astype({\"product_code\": str})\n",
    "one_rest_product_tail5 = one_rest_product_tail5.astype({\"product_code\": str})\n",
    "two_rest_product_head5 = two_rest_product_head5.astype({\"product_code\": str})\n",
    "two_rest_product_tail5 = two_rest_product_tail5.astype({\"product_code\": str}) "
   ]
  },
  {
   "cell_type": "code",
   "execution_count": 119,
   "metadata": {},
   "outputs": [
    {
     "data": {
      "text/plain": [
       "<BarContainer object of 5 artists>"
      ]
     },
     "execution_count": 119,
     "metadata": {},
     "output_type": "execute_result"
    },
    {
     "data": {
      "image/png": "[encoded data removed]",
      "text/plain": [
       "<Figure size 864x720 with 1 Axes>"
      ]
     },
     "metadata": {
      "needs_background": "light"
     },
     "output_type": "display_data"
    }
   ],
   "source": [
    "one_rest_product_head5 = pd.merge(one_rest_product_head5, dt_PRODUCT_LIST, on='product_code')\n",
    "fig, ax = plt.subplots(1, 1, figsize = (12,10))\n",
    "plt.bar(one_rest_product_head5['product_name'], one_rest_product_head5['product_count'])"
   ]
  },
  {
   "cell_type": "code",
   "execution_count": 122,
   "metadata": {},
   "outputs": [
    {
     "data": {
      "text/plain": [
       "<BarContainer object of 5 artists>"
      ]
     },
     "execution_count": 122,
     "metadata": {},
     "output_type": "execute_result"
    },
    {
     "data": {
      "image/png": "[encoded data removed]",
      "text/plain": [
       "<Figure size 936x720 with 1 Axes>"
      ]
     },
     "metadata": {
      "needs_background": "light"
     },
     "output_type": "display_data"
    }
   ],
   "source": [
    "one_rest_product_tail5 = pd.merge(one_rest_product_tail5, dt_PRODUCT_LIST, on='product_code')\n",
    "fig, ax = plt.subplots(1, 1, figsize = (13, 10))\n",
    "plt.bar(one_rest_product_tail5['product_name'], one_rest_product_tail5['product_count'])"
   ]
  },
  {
   "cell_type": "code",
   "execution_count": 125,
   "metadata": {},
   "outputs": [
    {
     "data": {
      "text/plain": [
       "<BarContainer object of 5 artists>"
      ]
     },
     "execution_count": 125,
     "metadata": {},
     "output_type": "execute_result"
    },
    {
     "data": {
      "image/png": "[encoded data removed]",
      "text/plain": [
       "<Figure size 936x720 with 1 Axes>"
      ]
     },
     "metadata": {
      "needs_background": "light"
     },
     "output_type": "display_data"
    }
   ],
   "source": [
    "two_rest_product_head5 = pd.merge(two_rest_product_head5, dt_PRODUCT_LIST, on='product_code')\n",
    "fig, ax = plt.subplots(1, 1, figsize = (13, 10))\n",
    "plt.bar(two_rest_product_head5['product_name'], two_rest_product_head5['product_count'])"
   ]
  },
  {
   "cell_type": "code",
   "execution_count": 128,
   "metadata": {},
   "outputs": [
    {
     "data": {
      "text/plain": [
       "<BarContainer object of 5 artists>"
      ]
     },
     "execution_count": 128,
     "metadata": {},
     "output_type": "execute_result"
    },
    {
     "data": {
      "image/png": "[encoded data removed]",
      "text/plain": [
       "<Figure size 1008x720 with 1 Axes>"
      ]
     },
     "metadata": {
      "needs_background": "light"
     },
     "output_type": "display_data"
    }
   ],
   "source": [
    "#two_rest_product_tail5 = pd.merge(two_rest_product_tail5, dt_PRODUCT_LIST, on='product_code')\n",
    "fig, ax = plt.subplots(1, 1, figsize = (14, 10))\n",
    "plt.bar(two_rest_product_tail5['product_name'], two_rest_product_tail5['product_count'])"
   ]
  },
  {
   "cell_type": "code",
   "execution_count": 14,
   "metadata": {},
   "outputs": [
    {
     "data": {
      "text/plain": [
       "<BarContainer object of 5 artists>"
      ]
     },
     "execution_count": 14,
     "metadata": {},
     "output_type": "execute_result"
    },
    {
     "data": {
      "image/png": "[encoded data removed]",
      "text/plain": [
       "<Figure size 432x288 with 1 Axes>"
      ]
     },
     "metadata": {
      "needs_background": "light"
     },
     "output_type": "display_data"
    }
   ],
   "source": [
    "date_group = data_SALE_LIST.groupby('date').sum().reset_index()\n",
    "plt.bar(date_group['date'], date_group['product_count'])"
   ]
  },
  {
   "cell_type": "code",
   "execution_count": 15,
   "metadata": {},
   "outputs": [
    {
     "data": {
      "text/html": [
       "<div>\n",
       "<style scoped>\n",
       "    .dataframe tbody tr th:only-of-type {\n",
       "        vertical-align: middle;\n",
       "    }\n",
       "\n",
       "    .dataframe tbody tr th {\n",
       "        vertical-align: top;\n",
       "    }\n",
       "\n",
       "    .dataframe thead th {\n",
       "        text-align: right;\n",
       "    }\n",
       "</style>\n",
       "<table border=\"1\" class=\"dataframe\">\n",
       "  <thead>\n",
       "    <tr style=\"text-align: right;\">\n",
       "      <th></th>\n",
       "      <th>date</th>\n",
       "      <th>product_code</th>\n",
       "      <th>product_count</th>\n",
       "    </tr>\n",
       "  </thead>\n",
       "  <tbody>\n",
       "    <tr>\n",
       "      <th>0</th>\n",
       "      <td>2009</td>\n",
       "      <td>12412285208</td>\n",
       "      <td>251686</td>\n",
       "    </tr>\n",
       "    <tr>\n",
       "      <th>1</th>\n",
       "      <td>2010</td>\n",
       "      <td>13567296143</td>\n",
       "      <td>278505</td>\n",
       "    </tr>\n",
       "    <tr>\n",
       "      <th>2</th>\n",
       "      <td>2011</td>\n",
       "      <td>14340971833</td>\n",
       "      <td>275637</td>\n",
       "    </tr>\n",
       "    <tr>\n",
       "      <th>3</th>\n",
       "      <td>2012</td>\n",
       "      <td>14065501527</td>\n",
       "      <td>320849</td>\n",
       "    </tr>\n",
       "    <tr>\n",
       "      <th>4</th>\n",
       "      <td>2013</td>\n",
       "      <td>7464442407</td>\n",
       "      <td>127757</td>\n",
       "    </tr>\n",
       "  </tbody>\n",
       "</table>\n",
       "</div>"
      ],
      "text/plain": [
       "   date  product_code  product_count\n",
       "0  2009   12412285208         251686\n",
       "1  2010   13567296143         278505\n",
       "2  2011   14340971833         275637\n",
       "3  2012   14065501527         320849\n",
       "4  2013    7464442407         127757"
      ]
     },
     "execution_count": 15,
     "metadata": {},
     "output_type": "execute_result"
    }
   ],
   "source": [
    "one_rest_date = data_SALE_LIST[data_rest_kzernii].groupby('date').sum().reset_index()\n",
    "two_rest_date = data_SALE_LIST[~data_rest_kzernii].groupby('date').sum().reset_index()\n",
    "two_rest_date"
   ]
  },
  {
   "cell_type": "code",
   "execution_count": 16,
   "metadata": {},
   "outputs": [
    {
     "data": {
      "text/plain": [
       "<BarContainer object of 5 artists>"
      ]
     },
     "execution_count": 16,
     "metadata": {},
     "output_type": "execute_result"
    },
    {
     "data": {
      "image/png": "[encoded data removed]",
      "text/plain": [
       "<Figure size 432x288 with 1 Axes>"
      ]
     },
     "metadata": {
      "needs_background": "light"
     },
     "output_type": "display_data"
    }
   ],
   "source": [
    "plt.bar(one_rest_date['date'], one_rest_date['product_count'])"
   ]
  },
  {
   "cell_type": "code",
   "execution_count": 17,
   "metadata": {},
   "outputs": [
    {
     "data": {
      "text/plain": [
       "<BarContainer object of 5 artists>"
      ]
     },
     "execution_count": 17,
     "metadata": {},
     "output_type": "execute_result"
    },
    {
     "data": {
      "image/png": "[encoded data removed]",
      "text/plain": [
       "<Figure size 432x288 with 1 Axes>"
      ]
     },
     "metadata": {
      "needs_background": "light"
     },
     "output_type": "display_data"
    }
   ],
   "source": [
    "plt.bar(two_rest_date['date'], two_rest_date['product_count'])"
   ]
  },
  {
   "cell_type": "code",
   "execution_count": 18,
   "metadata": {},
   "outputs": [
    {
     "data": {
      "text/plain": [
       "0    822006\n",
       "1    822087\n",
       "2    821012\n",
       "3    821001\n",
       "4    822164\n",
       "Name: product_code, dtype: int64"
      ]
     },
     "execution_count": 18,
     "metadata": {},
     "output_type": "execute_result"
    }
   ],
   "source": [
    "best_product5 = product_sales_volume_sort.head().reset_index()\n",
    "best_product5['product_code']"
   ]
  },
  {
   "cell_type": "code",
   "execution_count": 19,
   "metadata": {},
   "outputs": [
    {
     "data": {
      "text/plain": [
       "Text(0.5, 0.98, '')"
      ]
     },
     "execution_count": 19,
     "metadata": {},
     "output_type": "execute_result"
    },
    {
     "data": {
      "image/png": "[encoded data removed]",
      "text/plain": [
       "<Figure size 504x576 with 1 Axes>"
      ]
     },
     "metadata": {
      "needs_background": "light"
     },
     "output_type": "display_data"
    }
   ],
   "source": [
    "data_trimestr = pd.read_csv('SALE_LIST.csv', sep=';')\n",
    "data_trimestr = data_trimestr.drop(data_trimestr[(data_trimestr.product_code != 822006) \n",
    "                                                 & (data_trimestr.product_code != 822087) \n",
    "                                                 & (data_trimestr.product_code != 821012) \n",
    "                                                 & (data_trimestr.product_code != 821001) \n",
    "                                                 & (data_trimestr.product_code != 822164)].index)\n",
    "fig, ax = plt.subplots(1, 1, figsize = (7,8))\n",
    "data_trimestr.boxplot('product_count', by='rest_code', ax=ax).get_figure().suptitle('')\n"
   ]
  },
  {
   "cell_type": "code",
   "execution_count": 20,
   "metadata": {},
   "outputs": [
    {
     "data": {
      "text/html": [
       "<div>\n",
       "<style scoped>\n",
       "    .dataframe tbody tr th:only-of-type {\n",
       "        vertical-align: middle;\n",
       "    }\n",
       "\n",
       "    .dataframe tbody tr th {\n",
       "        vertical-align: top;\n",
       "    }\n",
       "\n",
       "    .dataframe thead th {\n",
       "        text-align: right;\n",
       "    }\n",
       "</style>\n",
       "<table border=\"1\" class=\"dataframe\">\n",
       "  <thead>\n",
       "    <tr style=\"text-align: right;\">\n",
       "      <th></th>\n",
       "      <th>date</th>\n",
       "      <th>product_code</th>\n",
       "      <th>product_count</th>\n",
       "    </tr>\n",
       "  </thead>\n",
       "  <tbody>\n",
       "    <tr>\n",
       "      <th>0</th>\n",
       "      <td>01</td>\n",
       "      <td>1478968641</td>\n",
       "      <td>47909</td>\n",
       "    </tr>\n",
       "    <tr>\n",
       "      <th>1</th>\n",
       "      <td>02</td>\n",
       "      <td>1428840583</td>\n",
       "      <td>50530</td>\n",
       "    </tr>\n",
       "    <tr>\n",
       "      <th>2</th>\n",
       "      <td>03</td>\n",
       "      <td>1557828295</td>\n",
       "      <td>57814</td>\n",
       "    </tr>\n",
       "    <tr>\n",
       "      <th>3</th>\n",
       "      <td>04</td>\n",
       "      <td>1578349578</td>\n",
       "      <td>64227</td>\n",
       "    </tr>\n",
       "    <tr>\n",
       "      <th>4</th>\n",
       "      <td>05</td>\n",
       "      <td>1603833621</td>\n",
       "      <td>63734</td>\n",
       "    </tr>\n",
       "    <tr>\n",
       "      <th>5</th>\n",
       "      <td>06</td>\n",
       "      <td>1523298872</td>\n",
       "      <td>61772</td>\n",
       "    </tr>\n",
       "    <tr>\n",
       "      <th>6</th>\n",
       "      <td>07</td>\n",
       "      <td>1510202590</td>\n",
       "      <td>55041</td>\n",
       "    </tr>\n",
       "    <tr>\n",
       "      <th>7</th>\n",
       "      <td>08</td>\n",
       "      <td>1458455912</td>\n",
       "      <td>50147</td>\n",
       "    </tr>\n",
       "    <tr>\n",
       "      <th>8</th>\n",
       "      <td>09</td>\n",
       "      <td>1462560493</td>\n",
       "      <td>57786</td>\n",
       "    </tr>\n",
       "    <tr>\n",
       "      <th>9</th>\n",
       "      <td>10</td>\n",
       "      <td>1494598205</td>\n",
       "      <td>54585</td>\n",
       "    </tr>\n",
       "    <tr>\n",
       "      <th>10</th>\n",
       "      <td>11</td>\n",
       "      <td>1444476070</td>\n",
       "      <td>48425</td>\n",
       "    </tr>\n",
       "    <tr>\n",
       "      <th>11</th>\n",
       "      <td>12</td>\n",
       "      <td>1515175786</td>\n",
       "      <td>48785</td>\n",
       "    </tr>\n",
       "  </tbody>\n",
       "</table>\n",
       "</div>"
      ],
      "text/plain": [
       "   date  product_code  product_count\n",
       "0    01    1478968641          47909\n",
       "1    02    1428840583          50530\n",
       "2    03    1557828295          57814\n",
       "3    04    1578349578          64227\n",
       "4    05    1603833621          63734\n",
       "5    06    1523298872          61772\n",
       "6    07    1510202590          55041\n",
       "7    08    1458455912          50147\n",
       "8    09    1462560493          57786\n",
       "9    10    1494598205          54585\n",
       "10   11    1444476070          48425\n",
       "11   12    1515175786          48785"
      ]
     },
     "execution_count": 20,
     "metadata": {},
     "output_type": "execute_result"
    }
   ],
   "source": [
    "data_trimestr['date'] = data_trimestr['date'].apply(lambda x :x[3:5])\n",
    "data_trimestr = data_trimestr.groupby('date').sum().reset_index()\n",
    "data_trimestr"
   ]
  },
  {
   "cell_type": "code",
   "execution_count": 21,
   "metadata": {},
   "outputs": [
    {
     "data": {
      "text/plain": [
       "<matplotlib.axes._subplots.AxesSubplot at 0x16a34040160>"
      ]
     },
     "execution_count": 21,
     "metadata": {},
     "output_type": "execute_result"
    },
    {
     "data": {
      "image/png": "[encoded data removed]",
      "text/plain": [
       "<Figure size 504x576 with 1 Axes>"
      ]
     },
     "metadata": {
      "needs_background": "light"
     },
     "output_type": "display_data"
    }
   ],
   "source": [
    "fig, ax = plt.subplots(1, 1, figsize = (7,8))\n",
    "data_trimestr.boxplot(column='product_count', ax=ax)"
   ]
  },
  {
   "cell_type": "code",
   "execution_count": 22,
   "metadata": {},
   "outputs": [
    {
     "data": {
      "text/html": [
       "<div>\n",
       "<style scoped>\n",
       "    .dataframe tbody tr th:only-of-type {\n",
       "        vertical-align: middle;\n",
       "    }\n",
       "\n",
       "    .dataframe tbody tr th {\n",
       "        vertical-align: top;\n",
       "    }\n",
       "\n",
       "    .dataframe thead th {\n",
       "        text-align: right;\n",
       "    }\n",
       "</style>\n",
       "<table border=\"1\" class=\"dataframe\">\n",
       "  <thead>\n",
       "    <tr style=\"text-align: right;\">\n",
       "      <th></th>\n",
       "      <th>rest_code</th>\n",
       "      <th>date</th>\n",
       "      <th>product_code</th>\n",
       "      <th>product_count</th>\n",
       "    </tr>\n",
       "  </thead>\n",
       "  <tbody>\n",
       "    <tr>\n",
       "      <th>0</th>\n",
       "      <td>ћечта</td>\n",
       "      <td>2009</td>\n",
       "      <td>12412285208</td>\n",
       "      <td>251686</td>\n",
       "    </tr>\n",
       "    <tr>\n",
       "      <th>1</th>\n",
       "      <td>ћечта</td>\n",
       "      <td>2010</td>\n",
       "      <td>13567296143</td>\n",
       "      <td>278505</td>\n",
       "    </tr>\n",
       "    <tr>\n",
       "      <th>2</th>\n",
       "      <td>ћечта</td>\n",
       "      <td>2011</td>\n",
       "      <td>14340971833</td>\n",
       "      <td>275637</td>\n",
       "    </tr>\n",
       "    <tr>\n",
       "      <th>3</th>\n",
       "      <td>ћечта</td>\n",
       "      <td>2012</td>\n",
       "      <td>14065501527</td>\n",
       "      <td>320849</td>\n",
       "    </tr>\n",
       "    <tr>\n",
       "      <th>4</th>\n",
       "      <td>ћечта</td>\n",
       "      <td>2013</td>\n",
       "      <td>7464442407</td>\n",
       "      <td>127757</td>\n",
       "    </tr>\n",
       "    <tr>\n",
       "      <th>5</th>\n",
       "      <td>ќзерный</td>\n",
       "      <td>2009</td>\n",
       "      <td>9948320387</td>\n",
       "      <td>58720</td>\n",
       "    </tr>\n",
       "    <tr>\n",
       "      <th>6</th>\n",
       "      <td>ќзерный</td>\n",
       "      <td>2010</td>\n",
       "      <td>10093324305</td>\n",
       "      <td>60527</td>\n",
       "    </tr>\n",
       "    <tr>\n",
       "      <th>7</th>\n",
       "      <td>ќзерный</td>\n",
       "      <td>2011</td>\n",
       "      <td>10644296963</td>\n",
       "      <td>58663</td>\n",
       "    </tr>\n",
       "    <tr>\n",
       "      <th>8</th>\n",
       "      <td>ќзерный</td>\n",
       "      <td>2012</td>\n",
       "      <td>11056014168</td>\n",
       "      <td>60358</td>\n",
       "    </tr>\n",
       "    <tr>\n",
       "      <th>9</th>\n",
       "      <td>ќзерный</td>\n",
       "      <td>2013</td>\n",
       "      <td>10553828512</td>\n",
       "      <td>53614</td>\n",
       "    </tr>\n",
       "  </tbody>\n",
       "</table>\n",
       "</div>"
      ],
      "text/plain": [
       "  rest_code  date  product_code  product_count\n",
       "0     ћечта  2009   12412285208         251686\n",
       "1     ћечта  2010   13567296143         278505\n",
       "2     ћечта  2011   14340971833         275637\n",
       "3     ћечта  2012   14065501527         320849\n",
       "4     ћечта  2013    7464442407         127757\n",
       "5   ќзерный  2009    9948320387          58720\n",
       "6   ќзерный  2010   10093324305          60527\n",
       "7   ќзерный  2011   10644296963          58663\n",
       "8   ќзерный  2012   11056014168          60358\n",
       "9   ќзерный  2013   10553828512          53614"
      ]
     },
     "execution_count": 22,
     "metadata": {},
     "output_type": "execute_result"
    }
   ],
   "source": [
    "data_SALE_LIST.groupby(['rest_code', 'date']).sum().reset_index()"
   ]
  },
  {
   "cell_type": "code",
   "execution_count": 23,
   "metadata": {},
   "outputs": [
    {
     "data": {
      "text/plain": [
       "Text(0.5, 0.98, '')"
      ]
     },
     "execution_count": 23,
     "metadata": {},
     "output_type": "execute_result"
    },
    {
     "data": {
      "image/png": "[encoded data removed]",
      "text/plain": [
       "<Figure size 504x576 with 1 Axes>"
      ]
     },
     "metadata": {
      "needs_background": "light"
     },
     "output_type": "display_data"
    }
   ],
   "source": [
    "fig, ax = plt.subplots(1, 1, figsize = (7,8))\n",
    "data_SALE_LIST.groupby(['rest_code', 'date']).sum().reset_index().boxplot('product_count', by='rest_code', ax=ax).get_figure().suptitle('')"
   ]
  },
  {
   "cell_type": "code",
   "execution_count": 37,
   "metadata": {},
   "outputs": [
    {
     "data": {
      "text/plain": [
       "239"
      ]
     },
     "execution_count": 37,
     "metadata": {},
     "output_type": "execute_result"
    }
   ],
   "source": [
    "data_SALE_LIST['product_count'].max()"
   ]
  },
  {
   "cell_type": "code",
   "execution_count": 25,
   "metadata": {},
   "outputs": [
    {
     "data": {
      "text/plain": [
       "-6"
      ]
     },
     "execution_count": 25,
     "metadata": {},
     "output_type": "execute_result"
    }
   ],
   "source": [
    "data_SALE_LIST['product_count'].min()"
   ]
  },
  {
   "cell_type": "code",
   "execution_count": null,
   "metadata": {},
   "outputs": [],
   "source": []
  },
  {
   "cell_type": "code",
   "execution_count": null,
   "metadata": {},
   "outputs": [],
   "source": []
  },
  {
   "cell_type": "code",
   "execution_count": null,
   "metadata": {},
   "outputs": [],
   "source": []
  },
  {
   "cell_type": "code",
   "execution_count": null,
   "metadata": {},
   "outputs": [],
   "source": []
  },
  {
   "cell_type": "code",
   "execution_count": null,
   "metadata": {},
   "outputs": [],
   "source": []
  }
 ],
 "metadata": {
  "kernelspec": {
   "display_name": "Python 3",
   "language": "python",
   "name": "python3"
  },
  "language_info": {
   "codemirror_mode": {
    "name": "ipython",
    "version": 3
   },
   "file_extension": ".py",
   "mimetype": "text/x-python",
   "name": "python",
   "nbconvert_exporter": "python",
   "pygments_lexer": "ipython3",
   "version": "3.8.3"
  }
 },
 "nbformat": 4,
 "nbformat_minor": 4
}

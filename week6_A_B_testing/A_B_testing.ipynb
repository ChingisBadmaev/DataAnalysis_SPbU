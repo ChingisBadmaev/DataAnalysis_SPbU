{
 "cells": [
  {
   "cell_type": "code",
   "execution_count": 1,
   "metadata": {},
   "outputs": [],
   "source": [
    "import pandas as pd\n",
    "import re\n",
    "import sys, string\n",
    "from scipy.stats import norm, chi2_contingency\n",
    "import statsmodels.api as sm\n",
    "import numpy as np"
   ]
  },
  {
   "cell_type": "code",
   "execution_count": 2,
   "metadata": {},
   "outputs": [],
   "source": [
    "# создаем пустые DataFrame, состояще из двух столбцов: слово и встречаемость этого слова\n",
    "thesaurus_gamlet = pd.DataFrame({'words':[], 'count':[]})\n",
    "thesaurus_makbet = pd.DataFrame({'words':[], 'count':[]})"
   ]
  },
  {
   "cell_type": "code",
   "execution_count": 3,
   "metadata": {},
   "outputs": [],
   "source": [
    "# считываем тексты из файлов и заполняем DataFrame\n",
    "text_gamlet = sorted(open('Gamlet.txt', 'r', encoding = 'utf-8').read().lower().translate(''.maketrans('', '', string.punctuation)).split())\n",
    "for i in range(len(text_gamlet) - 1):\n",
    "    if text_gamlet[i + 1] == text_gamlet[i]: continue\n",
    "    thesaurus_gamlet.loc[len(thesaurus_gamlet['words'])]  = [text_gamlet[i], int(text_gamlet.count(text_gamlet[i]))]\n",
    "\n",
    "text_makbet = sorted(open('Makbet.txt', 'r', encoding = 'utf-8').read().lower().translate(''.maketrans('', '', string.punctuation)).split())\n",
    "for i in range(len(text_makbet) - 1):\n",
    "    if text_makbet[i + 1] == text_makbet[i]: continue\n",
    "    thesaurus_makbet.loc[len(thesaurus_makbet['words'])]  = [text_makbet[i], int(text_makbet.count(text_makbet[i]))]\n"
   ]
  },
  {
   "cell_type": "code",
   "execution_count": 4,
   "metadata": {},
   "outputs": [
    {
     "data": {
      "text/html": [
       "<div>\n",
       "<style scoped>\n",
       "    .dataframe tbody tr th:only-of-type {\n",
       "        vertical-align: middle;\n",
       "    }\n",
       "\n",
       "    .dataframe tbody tr th {\n",
       "        vertical-align: top;\n",
       "    }\n",
       "\n",
       "    .dataframe thead th {\n",
       "        text-align: right;\n",
       "    }\n",
       "</style>\n",
       "<table border=\"1\" class=\"dataframe\">\n",
       "  <thead>\n",
       "    <tr style=\"text-align: right;\">\n",
       "      <th></th>\n",
       "      <th>words</th>\n",
       "      <th>count</th>\n",
       "    </tr>\n",
       "  </thead>\n",
       "  <tbody>\n",
       "    <tr>\n",
       "      <th>0</th>\n",
       "      <td>1</td>\n",
       "      <td>5.0</td>\n",
       "    </tr>\n",
       "    <tr>\n",
       "      <th>1</th>\n",
       "      <td>2</td>\n",
       "      <td>5.0</td>\n",
       "    </tr>\n",
       "    <tr>\n",
       "      <th>2</th>\n",
       "      <td>3</td>\n",
       "      <td>3.0</td>\n",
       "    </tr>\n",
       "    <tr>\n",
       "      <th>3</th>\n",
       "      <td>3а</td>\n",
       "      <td>1.0</td>\n",
       "    </tr>\n",
       "    <tr>\n",
       "      <th>4</th>\n",
       "      <td>4</td>\n",
       "      <td>3.0</td>\n",
       "    </tr>\n",
       "    <tr>\n",
       "      <th>...</th>\n",
       "      <td>...</td>\n",
       "      <td>...</td>\n",
       "    </tr>\n",
       "    <tr>\n",
       "      <th>7499</th>\n",
       "      <td>ярче</td>\n",
       "      <td>1.0</td>\n",
       "    </tr>\n",
       "    <tr>\n",
       "      <th>7500</th>\n",
       "      <td>ярый</td>\n",
       "      <td>1.0</td>\n",
       "    </tr>\n",
       "    <tr>\n",
       "      <th>7501</th>\n",
       "      <td>ясли</td>\n",
       "      <td>1.0</td>\n",
       "    </tr>\n",
       "    <tr>\n",
       "      <th>7502</th>\n",
       "      <td>ясно</td>\n",
       "      <td>1.0</td>\n",
       "    </tr>\n",
       "    <tr>\n",
       "      <th>7503</th>\n",
       "      <td>ящике</td>\n",
       "      <td>1.0</td>\n",
       "    </tr>\n",
       "  </tbody>\n",
       "</table>\n",
       "<p>7504 rows × 2 columns</p>\n",
       "</div>"
      ],
      "text/plain": [
       "      words  count\n",
       "0         1    5.0\n",
       "1         2    5.0\n",
       "2         3    3.0\n",
       "3        3а    1.0\n",
       "4         4    3.0\n",
       "...     ...    ...\n",
       "7499   ярче    1.0\n",
       "7500   ярый    1.0\n",
       "7501   ясли    1.0\n",
       "7502   ясно    1.0\n",
       "7503  ящике    1.0\n",
       "\n",
       "[7504 rows x 2 columns]"
      ]
     },
     "execution_count": 4,
     "metadata": {},
     "output_type": "execute_result"
    }
   ],
   "source": [
    "thesaurus_gamlet.sort_values('count', kind='mergesort').tail(10)\n",
    "thesaurus_gamlet"
   ]
  },
  {
   "cell_type": "code",
   "execution_count": 5,
   "metadata": {
    "scrolled": false
   },
   "outputs": [
    {
     "data": {
      "text/html": [
       "<div>\n",
       "<style scoped>\n",
       "    .dataframe tbody tr th:only-of-type {\n",
       "        vertical-align: middle;\n",
       "    }\n",
       "\n",
       "    .dataframe tbody tr th {\n",
       "        vertical-align: top;\n",
       "    }\n",
       "\n",
       "    .dataframe thead th {\n",
       "        text-align: right;\n",
       "    }\n",
       "</style>\n",
       "<table border=\"1\" class=\"dataframe\">\n",
       "  <thead>\n",
       "    <tr style=\"text-align: right;\">\n",
       "      <th></th>\n",
       "      <th>words</th>\n",
       "      <th>count</th>\n",
       "    </tr>\n",
       "  </thead>\n",
       "  <tbody>\n",
       "    <tr>\n",
       "      <th>1504</th>\n",
       "      <td>как</td>\n",
       "      <td>116.0</td>\n",
       "    </tr>\n",
       "    <tr>\n",
       "      <th>3535</th>\n",
       "      <td>с</td>\n",
       "      <td>128.0</td>\n",
       "    </tr>\n",
       "    <tr>\n",
       "      <th>4295</th>\n",
       "      <td>ты</td>\n",
       "      <td>133.0</td>\n",
       "    </tr>\n",
       "    <tr>\n",
       "      <th>1999</th>\n",
       "      <td>на</td>\n",
       "      <td>147.0</td>\n",
       "    </tr>\n",
       "    <tr>\n",
       "      <th>4650</th>\n",
       "      <td>что</td>\n",
       "      <td>152.0</td>\n",
       "    </tr>\n",
       "    <tr>\n",
       "      <th>4729</th>\n",
       "      <td>я</td>\n",
       "      <td>256.0</td>\n",
       "    </tr>\n",
       "    <tr>\n",
       "      <th>1804</th>\n",
       "      <td>макбет</td>\n",
       "      <td>279.0</td>\n",
       "    </tr>\n",
       "    <tr>\n",
       "      <th>2152</th>\n",
       "      <td>не</td>\n",
       "      <td>300.0</td>\n",
       "    </tr>\n",
       "    <tr>\n",
       "      <th>258</th>\n",
       "      <td>в</td>\n",
       "      <td>318.0</td>\n",
       "    </tr>\n",
       "    <tr>\n",
       "      <th>1403</th>\n",
       "      <td>и</td>\n",
       "      <td>468.0</td>\n",
       "    </tr>\n",
       "  </tbody>\n",
       "</table>\n",
       "</div>"
      ],
      "text/plain": [
       "       words  count\n",
       "1504     как  116.0\n",
       "3535       с  128.0\n",
       "4295      ты  133.0\n",
       "1999      на  147.0\n",
       "4650     что  152.0\n",
       "4729       я  256.0\n",
       "1804  макбет  279.0\n",
       "2152      не  300.0\n",
       "258        в  318.0\n",
       "1403       и  468.0"
      ]
     },
     "execution_count": 5,
     "metadata": {},
     "output_type": "execute_result"
    }
   ],
   "source": [
    "thesaurus_makbet.sort_values('count', kind='mergesort').tail(10)"
   ]
  },
  {
   "cell_type": "markdown",
   "metadata": {},
   "source": [
    "# Тест 1. Слова, которые будем проверять: и, я, * имя главного героя *"
   ]
  },
  {
   "cell_type": "code",
   "execution_count": 6,
   "metadata": {
    "scrolled": true
   },
   "outputs": [
    {
     "name": "stdout",
     "output_type": "stream",
     "text": [
      "количество слов в Гамлете:  25992.0 \n",
      " количество слов в Макбете:  13579.0\n"
     ]
    }
   ],
   "source": [
    "word_count_gamlet = float(len(text_gamlet))\n",
    "word_count_makbet = float(len(text_makbet))\n",
    "print('количество слов в Гамлете: ', word_count_gamlet, '\\n', 'количество слов в Макбете: ', word_count_makbet)"
   ]
  },
  {
   "cell_type": "markdown",
   "metadata": {},
   "source": [
    "## A/B тест для слова \"и\" "
   ]
  },
  {
   "cell_type": "code",
   "execution_count": 7,
   "metadata": {},
   "outputs": [
    {
     "name": "stdout",
     "output_type": "stream",
     "text": [
      "количество слова \"и\" в Гамлете:  992.0 \n",
      " количество слова \"и\" в Макбете:  468.0\n"
     ]
    }
   ],
   "source": [
    "first_test_gamlet = thesaurus_gamlet[thesaurus_gamlet['words'] == 'и']['count'].tolist()[0]\n",
    "first_test_makbet = thesaurus_makbet[thesaurus_makbet['words'] == 'и']['count'].tolist()[0]\n",
    "print('количество слова \"и\" в Гамлете: ', first_test_gamlet, '\\n', 'количество слова \"и\" в Макбете: ', first_test_makbet)"
   ]
  },
  {
   "cell_type": "code",
   "execution_count": 8,
   "metadata": {},
   "outputs": [
    {
     "name": "stdout",
     "output_type": "stream",
     "text": [
      "|z|: 1.8540164744391807 \n",
      " p_value: 0.06373680309791294\n"
     ]
    }
   ],
   "source": [
    "s1 = first_test_gamlet\n",
    "n1 = word_count_gamlet\n",
    "s2 = first_test_makbet\n",
    "n2 = word_count_makbet\n",
    "p1 = s1/n1\n",
    "p2 = s2/n2\n",
    "p = (s1 + s2)/(n1 + n2)\n",
    "z = (p2-p1)/((p*(1 - p)*((1/n1) + (1/n2)))**0.5)\n",
    "\n",
    "p_value = norm.cdf(z)\n",
    "\n",
    "print('|z|:', abs(z), '\\n', 'p_value:', p_value * 2)"
   ]
  },
  {
   "cell_type": "code",
   "execution_count": 9,
   "metadata": {},
   "outputs": [
    {
     "name": "stdout",
     "output_type": "stream",
     "text": [
      "|z|: 1.8540164744391807 \n",
      " p_value1: 0.06373680309791294\n"
     ]
    }
   ],
   "source": [
    "z1, p_value1 = sm.stats.proportions_ztest([s1, s2], [n1, n2])\n",
    "\n",
    "print('|z|:', abs(z1), '\\n', 'p_value1:', p_value * 2)"
   ]
  },
  {
   "cell_type": "code",
   "execution_count": 10,
   "metadata": {},
   "outputs": [
    {
     "name": "stdout",
     "output_type": "stream",
     "text": [
      "chi2**0.5: 1.8540164744391792 \n",
      " p_value: 0.06373680309791317\n"
     ]
    }
   ],
   "source": [
    "arr = np.array([[s1, n1-s1], [s2, n2-s2]])\n",
    "chi2, p_value3, dof, exp = chi2_contingency(arr, correction = False)\n",
    "\n",
    "print('chi2**0.5:', chi2**0.5, '\\n', 'p_value:', p_value3)"
   ]
  },
  {
   "cell_type": "markdown",
   "metadata": {},
   "source": [
    "## A/B тест для слова \"я\" "
   ]
  },
  {
   "cell_type": "code",
   "execution_count": 11,
   "metadata": {},
   "outputs": [
    {
     "name": "stdout",
     "output_type": "stream",
     "text": [
      "количество слова \"я\" в Гамлете:  432.0 \n",
      " количество слова \"я\" в Макбете:  256.0\n"
     ]
    }
   ],
   "source": [
    "second_test_gamlet = thesaurus_gamlet[thesaurus_gamlet['words'] == 'я']['count'].tolist()[0]\n",
    "second_test_makbet = thesaurus_makbet[thesaurus_makbet['words'] == 'я']['count'].tolist()[0]\n",
    "print('количество слова \"я\" в Гамлете: ', second_test_gamlet, '\\n', 'количество слова \"я\" в Макбете: ', second_test_makbet)"
   ]
  },
  {
   "cell_type": "code",
   "execution_count": 12,
   "metadata": {},
   "outputs": [
    {
     "name": "stdout",
     "output_type": "stream",
     "text": [
      "|z|: 1.6128347587529948 \n",
      " p_value: 1.8932195876649536\n"
     ]
    }
   ],
   "source": [
    "s1 = second_test_gamlet\n",
    "n1 = word_count_gamlet\n",
    "s2 = second_test_makbet\n",
    "n2 = word_count_makbet\n",
    "p1 = s1 / n1\n",
    "p2 = s2/n2\n",
    "p = (s1 + s2)/(n1 + n2)\n",
    "z = (p2-p1)/((p*(1-p)*((1/n1)+(1/n2)))**0.5)\n",
    "\n",
    "p_value = norm.cdf(z)\n",
    "\n",
    "print('|z|:', abs(z), '\\n', 'p_value:', p_value * 2)"
   ]
  },
  {
   "cell_type": "code",
   "execution_count": 13,
   "metadata": {},
   "outputs": [
    {
     "name": "stdout",
     "output_type": "stream",
     "text": [
      "|z|: 1.6128347587529948 \n",
      " p_value1: 1.8932195876649536\n"
     ]
    }
   ],
   "source": [
    "z1, p_value1 = sm.stats.proportions_ztest([s1, s2], [n1, n2])\n",
    "\n",
    "print('|z|:', abs(z1), '\\n', 'p_value1:', p_value * 2)"
   ]
  },
  {
   "cell_type": "code",
   "execution_count": 14,
   "metadata": {},
   "outputs": [
    {
     "name": "stdout",
     "output_type": "stream",
     "text": [
      "chi2**0.5: 1.6128347587529968 \n",
      " p_value: 0.1067804123350454\n"
     ]
    }
   ],
   "source": [
    "arr = np.array([[s1, n1-s1], [s2, n2-s2]])\n",
    "chi2, p_value3, dof, exp = chi2_contingency(arr, correction = False)\n",
    "\n",
    "print('chi2**0.5:', chi2**0.5, '\\n', 'p_value:', p_value3)"
   ]
  },
  {
   "cell_type": "markdown",
   "metadata": {},
   "source": [
    "## A/B тест для имен главных героев \n"
   ]
  },
  {
   "cell_type": "code",
   "execution_count": 15,
   "metadata": {},
   "outputs": [
    {
     "name": "stdout",
     "output_type": "stream",
     "text": [
      "количество слова \"я\" в Гамлете:  439.0 \n",
      " количество слова \"я\" в Макбете:  279.0\n"
     ]
    }
   ],
   "source": [
    "third_test_gamlet = thesaurus_gamlet[thesaurus_gamlet['words'] == 'гамлет']['count'].tolist()[0]\n",
    "third_test_makbet = thesaurus_makbet[thesaurus_makbet['words'] == 'макбет']['count'].tolist()[0]\n",
    "print('количество слова \"я\" в Гамлете: ', third_test_gamlet, '\\n', 'количество слова \"я\" в Макбете: ', third_test_makbet)"
   ]
  },
  {
   "cell_type": "code",
   "execution_count": 16,
   "metadata": {},
   "outputs": [
    {
     "name": "stdout",
     "output_type": "stream",
     "text": [
      "|z|: 2.587304562842557 \n",
      " p_value: 1.990326994856774\n"
     ]
    }
   ],
   "source": [
    "s1 = third_test_gamlet\n",
    "n1 = word_count_gamlet\n",
    "s2 = third_test_makbet\n",
    "n2 = word_count_makbet\n",
    "p1 = s1 / n1\n",
    "p2 = s2/n2\n",
    "p = (s1 + s2)/(n1 + n2)\n",
    "z = (p2-p1)/((p*(1-p)*((1/n1)+(1/n2)))**0.5)\n",
    "\n",
    "p_value = norm.cdf(z)\n",
    "\n",
    "print('|z|:', abs(z), '\\n', 'p_value:', p_value * 2)"
   ]
  },
  {
   "cell_type": "code",
   "execution_count": 17,
   "metadata": {},
   "outputs": [
    {
     "name": "stdout",
     "output_type": "stream",
     "text": [
      "|z|: 2.587304562842557 \n",
      " p_value1: 1.990326994856774\n"
     ]
    }
   ],
   "source": [
    "z1, p_value1 = sm.stats.proportions_ztest([s1, s2], [n1, n2])\n",
    "\n",
    "print('|z|:', abs(z1), '\\n', 'p_value1:', p_value * 2)"
   ]
  },
  {
   "cell_type": "code",
   "execution_count": 18,
   "metadata": {
    "scrolled": false
   },
   "outputs": [
    {
     "name": "stdout",
     "output_type": "stream",
     "text": [
      "chi2**0.5: 2.5873045628425575 \n",
      " p_value: 0.009673005143226008\n"
     ]
    }
   ],
   "source": [
    "arr = np.array([[s1, n1-s1], [s2, n2-s2]])\n",
    "chi2, p_value3, dof, exp = chi2_contingency(arr, correction = False)\n",
    "\n",
    "print('chi2**0.5:', chi2**0.5, '\\n', 'p_value:', p_value3)"
   ]
  },
  {
   "cell_type": "markdown",
   "metadata": {},
   "source": [
    "# Тест 2. A/B тест для причастий (на минималках)"
   ]
  },
  {
   "cell_type": "markdown",
   "metadata": {},
   "source": [
    "### Ищем слова, у который окончания как у причастий"
   ]
  },
  {
   "cell_type": "code",
   "execution_count": 19,
   "metadata": {},
   "outputs": [],
   "source": [
    "participle_gamlet = pd.DataFrame({'words':[], 'count':[]})\n",
    "participle_makbet = pd.DataFrame({'words':[], 'count':[]})\n",
    "\n",
    "for i in range(len(thesaurus_gamlet) - 1):\n",
    "    if 'щий' in thesaurus_gamlet['words'][i]:\n",
    "        participle_gamlet.loc[len(participle_gamlet['words'])]  = [thesaurus_gamlet['words'][i], int(thesaurus_gamlet['count'][i])]\n",
    "        \n",
    "    if 'мый' in thesaurus_gamlet['words'][i]:\n",
    "        participle_gamlet.loc[len(participle_gamlet['words'])]  = [thesaurus_gamlet['words'][i], int(thesaurus_gamlet['count'][i])]\n",
    "        \n",
    "\n",
    "for i in range(len(thesaurus_makbet) - 1):\n",
    "    if 'щий' in thesaurus_makbet['words'][i]:\n",
    "        participle_makbet.loc[len(participle_makbet['words'])]  = [thesaurus_makbet['words'][i], int(thesaurus_makbet['count'][i])]\n",
    "        \n",
    "    if 'мый' in thesaurus_makbet['words'][i]:\n",
    "        participle_makbet.loc[len(participle_makbet['words'])]  = [thesaurus_makbet['words'][i], int(thesaurus_makbet['count'][i])]"
   ]
  },
  {
   "cell_type": "code",
   "execution_count": 20,
   "metadata": {
    "scrolled": true
   },
   "outputs": [
    {
     "name": "stdout",
     "output_type": "stream",
     "text": [
      "           words  count\n",
      "0     блуждающий    1.0\n",
      "1       боящийся    1.0\n",
      "2          вещий    1.0\n",
      "3       влекомый    1.0\n",
      "4   высокочтимый    1.0\n",
      "5    досточтимый    1.0\n",
      "6       зловещий    1.0\n",
      "7      каркающий    1.0\n",
      "8       кусающий    1.0\n",
      "9        любящий    2.0\n",
      "10     настоящий    1.0\n",
      "11    неуязвимый    1.0\n",
      "12         нищий    1.0\n",
      "13      нищийэто    1.0\n",
      "14         общий    3.0\n",
      "15    отвратимый    1.0\n",
      "16      плодящий    1.0\n",
      "17   прокажающий    1.0\n",
      "18      растущий    1.0\n",
      "19      рыдающий    1.0\n",
      "20         самый   11.0\n",
      "21      сносящий    1.0\n",
      "22     умирающий    1.0\n",
      "23      цветущий    2.0\n",
      "24       целящий    1.0 \n",
      "\n",
      "\n",
      "            words  count\n",
      "0        будущий    1.0\n",
      "1      врачующий    1.0\n",
      "2        искомый    1.0\n",
      "3        кипящий    1.0\n",
      "4      неведомый    1.0\n",
      "5   непримиримый    1.0\n",
      "6          общий    1.0\n",
      "7      отличимый    1.0\n",
      "8       пропащий    1.0\n",
      "9          самый    2.0\n",
      "10     следующий    1.0\n",
      "11    шествующий    1.0\n"
     ]
    }
   ],
   "source": [
    "print(participle_gamlet, '\\n\\n\\n', participle_makbet)"
   ]
  },
  {
   "cell_type": "markdown",
   "metadata": {},
   "source": [
    "### Удаляем не причастия"
   ]
  },
  {
   "cell_type": "code",
   "execution_count": 21,
   "metadata": {
    "scrolled": true
   },
   "outputs": [
    {
     "name": "stdout",
     "output_type": "stream",
     "text": [
      "           words  count\n",
      "0     блуждающий    1.0\n",
      "1       боящийся    1.0\n",
      "3       влекомый    1.0\n",
      "4   высокочтимый    1.0\n",
      "5    досточтимый    1.0\n",
      "7      каркающий    1.0\n",
      "8       кусающий    1.0\n",
      "9        любящий    2.0\n",
      "16      плодящий    1.0\n",
      "17   прокажающий    1.0\n",
      "18      растущий    1.0\n",
      "19      рыдающий    1.0\n",
      "21      сносящий    1.0\n",
      "22     умирающий    1.0\n",
      "23      цветущий    2.0\n",
      "24       целящий    1.0 \n",
      "\n",
      "\n",
      "          words  count\n",
      "1    врачующий    1.0\n",
      "2      искомый    1.0\n",
      "3      кипящий    1.0\n",
      "4    неведомый    1.0\n",
      "7    отличимый    1.0\n",
      "8     пропащий    1.0\n",
      "10   следующий    1.0\n",
      "11  шествующий    1.0\n"
     ]
    }
   ],
   "source": [
    "# самый будущий непримиримый общий\n",
    "participle_gamlet = participle_gamlet.drop(participle_gamlet[participle_gamlet['words'] == 'вещий'].index)\n",
    "participle_gamlet = participle_gamlet.drop(participle_gamlet[participle_gamlet['words'] == 'зловещий'].index)\n",
    "participle_gamlet = participle_gamlet.drop(participle_gamlet[participle_gamlet['words'] == 'настоящий'].index)\n",
    "participle_gamlet = participle_gamlet.drop(participle_gamlet[participle_gamlet['words'] == 'неуязвимый'].index)\n",
    "participle_gamlet = participle_gamlet.drop(participle_gamlet[participle_gamlet['words'] == 'нищий'].index)\n",
    "participle_gamlet = participle_gamlet.drop(participle_gamlet[participle_gamlet['words'] == 'нищийэто'].index)\n",
    "participle_gamlet = participle_gamlet.drop(participle_gamlet[participle_gamlet['words'] == 'общий'].index)\n",
    "participle_gamlet = participle_gamlet.drop(participle_gamlet[participle_gamlet['words'] == 'отвратимый'].index)\n",
    "participle_gamlet = participle_gamlet.drop(participle_gamlet[participle_gamlet['words'] == 'самый'].index)\n",
    "\n",
    "participle_makbet = participle_makbet.drop(participle_makbet[participle_makbet['words'] == 'будущий'].index)\n",
    "participle_makbet = participle_makbet.drop(participle_makbet[participle_makbet['words'] == 'общий'].index)\n",
    "participle_makbet = participle_makbet.drop(participle_makbet[participle_makbet['words'] == 'непримиримый'].index)\n",
    "participle_makbet = participle_makbet.drop(participle_makbet[participle_makbet['words'] == 'самый'].index)\n",
    "\n",
    "print(participle_gamlet, '\\n\\n\\n', participle_makbet)"
   ]
  },
  {
   "cell_type": "markdown",
   "metadata": {},
   "source": [
    "### Делаем переиндексацию"
   ]
  },
  {
   "cell_type": "code",
   "execution_count": 22,
   "metadata": {
    "scrolled": true
   },
   "outputs": [
    {
     "name": "stdout",
     "output_type": "stream",
     "text": [
      "           words  count\n",
      "0     блуждающий    1.0\n",
      "1       боящийся    1.0\n",
      "2       влекомый    1.0\n",
      "3   высокочтимый    1.0\n",
      "4    досточтимый    1.0\n",
      "5      каркающий    1.0\n",
      "6       кусающий    1.0\n",
      "7        любящий    2.0\n",
      "8       плодящий    1.0\n",
      "9    прокажающий    1.0\n",
      "10      растущий    1.0\n",
      "11      рыдающий    1.0\n",
      "12      сносящий    1.0\n",
      "13     умирающий    1.0\n",
      "14      цветущий    2.0\n",
      "15       целящий    1.0 \n",
      "\n",
      "\n",
      "         words  count\n",
      "0   врачующий    1.0\n",
      "1     искомый    1.0\n",
      "2     кипящий    1.0\n",
      "3   неведомый    1.0\n",
      "4   отличимый    1.0\n",
      "5    пропащий    1.0\n",
      "6   следующий    1.0\n",
      "7  шествующий    1.0\n"
     ]
    }
   ],
   "source": [
    "participle_gamlet = participle_gamlet.reset_index()\n",
    "del participle_gamlet['index']\n",
    "participle_gamlet\n",
    "\n",
    "participle_makbet = participle_makbet.reset_index()\n",
    "del participle_makbet['index']\n",
    "participle_makbet\n",
    "\n",
    "print(participle_gamlet, '\\n\\n\\n', participle_makbet)"
   ]
  },
  {
   "cell_type": "code",
   "execution_count": 23,
   "metadata": {},
   "outputs": [
    {
     "name": "stdout",
     "output_type": "stream",
     "text": [
      "18.0 8.0\n"
     ]
    }
   ],
   "source": [
    "participle_gamlet_count = 0\n",
    "for i in range(len(participle_gamlet)):\n",
    "    participle_gamlet_count += participle_gamlet['count'][i]\n",
    "    \n",
    "participle_makbet_count = 0\n",
    "for i in range(len(participle_makbet)):\n",
    "    participle_makbet_count += participle_makbet['count'][i]\n",
    "    \n",
    "print(participle_gamlet_count, participle_makbet_count)"
   ]
  },
  {
   "cell_type": "code",
   "execution_count": 24,
   "metadata": {},
   "outputs": [
    {
     "name": "stdout",
     "output_type": "stream",
     "text": [
      "|z|: 0.38100314385639283 \n",
      " p_value: 0.703200915717461\n"
     ]
    }
   ],
   "source": [
    "s1 = participle_gamlet_count\n",
    "n1 = word_count_gamlet\n",
    "s2 = participle_makbet_count\n",
    "n2 = word_count_makbet\n",
    "p1 = s1 / n1\n",
    "p2 = s2/n2\n",
    "p = (s1 + s2)/(n1 + n2)\n",
    "z = (p2-p1)/((p*(1-p)*((1/n1)+(1/n2)))**0.5)\n",
    "\n",
    "p_value = norm.cdf(z)\n",
    "\n",
    "print('|z|:', abs(z), '\\n', 'p_value:', p_value * 2)"
   ]
  },
  {
   "cell_type": "code",
   "execution_count": 25,
   "metadata": {},
   "outputs": [
    {
     "name": "stdout",
     "output_type": "stream",
     "text": [
      "|z|: 0.38100314385639283 \n",
      " p_value1: 0.703200915717461\n"
     ]
    }
   ],
   "source": [
    "z1, p_value1 = sm.stats.proportions_ztest([s1, s2], [n1, n2])\n",
    "\n",
    "print('|z|:', abs(z1), '\\n', 'p_value1:', p_value * 2)"
   ]
  },
  {
   "cell_type": "code",
   "execution_count": 26,
   "metadata": {},
   "outputs": [
    {
     "name": "stdout",
     "output_type": "stream",
     "text": [
      "chi2**0.5: 0.38100314385639245 \n",
      " p_value: 0.7032009157174612\n"
     ]
    }
   ],
   "source": [
    "arr = np.array([[s1, n1-s1], [s2, n2-s2]])\n",
    "chi2, p_value3, dof, exp = chi2_contingency(arr, correction = False)\n",
    "\n",
    "print('chi2**0.5:', chi2**0.5, '\\n', 'p_value:', p_value3)"
   ]
  }
 ],
 "metadata": {
  "kernelspec": {
   "display_name": "Python 3",
   "language": "python",
   "name": "python3"
  },
  "language_info": {
   "codemirror_mode": {
    "name": "ipython",
    "version": 3
   },
   "file_extension": ".py",
   "mimetype": "text/x-python",
   "name": "python",
   "nbconvert_exporter": "python",
   "pygments_lexer": "ipython3",
   "version": "3.8.3"
  }
 },
 "nbformat": 4,
 "nbformat_minor": 4
}

{
 "cells": [
  {
   "cell_type": "code",
   "execution_count": 403,
   "metadata": {},
   "outputs": [],
   "source": [
    "import pandas as pd\n",
    "import numpy as np\n",
    "import matplotlib\n",
    "import matplotlib.pyplot as plt\n",
    "import seaborn as sns\n",
    "\n",
    "from sklearn.linear_model import LinearRegression"
   ]
  },
  {
   "cell_type": "code",
   "execution_count": 404,
   "metadata": {
    "scrolled": true
   },
   "outputs": [
    {
     "data": {
      "text/html": [
       "<div>\n",
       "<style scoped>\n",
       "    .dataframe tbody tr th:only-of-type {\n",
       "        vertical-align: middle;\n",
       "    }\n",
       "\n",
       "    .dataframe tbody tr th {\n",
       "        vertical-align: top;\n",
       "    }\n",
       "\n",
       "    .dataframe thead th {\n",
       "        text-align: right;\n",
       "    }\n",
       "</style>\n",
       "<table border=\"1\" class=\"dataframe\">\n",
       "  <thead>\n",
       "    <tr style=\"text-align: right;\">\n",
       "      <th></th>\n",
       "      <th>Id</th>\n",
       "      <th>SQUARE_METERS</th>\n",
       "      <th>METRO_DISTANCE</th>\n",
       "      <th>PRICE</th>\n",
       "    </tr>\n",
       "  </thead>\n",
       "  <tbody>\n",
       "    <tr>\n",
       "      <th>0</th>\n",
       "      <td>601</td>\n",
       "      <td>28</td>\n",
       "      <td>677</td>\n",
       "      <td>7328400</td>\n",
       "    </tr>\n",
       "    <tr>\n",
       "      <th>1</th>\n",
       "      <td>602</td>\n",
       "      <td>54</td>\n",
       "      <td>120</td>\n",
       "      <td>9754600</td>\n",
       "    </tr>\n",
       "    <tr>\n",
       "      <th>2</th>\n",
       "      <td>603</td>\n",
       "      <td>43</td>\n",
       "      <td>1344</td>\n",
       "      <td>6781500</td>\n",
       "    </tr>\n",
       "    <tr>\n",
       "      <th>3</th>\n",
       "      <td>604</td>\n",
       "      <td>33</td>\n",
       "      <td>1003</td>\n",
       "      <td>6784100</td>\n",
       "    </tr>\n",
       "    <tr>\n",
       "      <th>4</th>\n",
       "      <td>605</td>\n",
       "      <td>30</td>\n",
       "      <td>591</td>\n",
       "      <td>7296200</td>\n",
       "    </tr>\n",
       "    <tr>\n",
       "      <th>...</th>\n",
       "      <td>...</td>\n",
       "      <td>...</td>\n",
       "      <td>...</td>\n",
       "      <td>...</td>\n",
       "    </tr>\n",
       "    <tr>\n",
       "      <th>95</th>\n",
       "      <td>696</td>\n",
       "      <td>28</td>\n",
       "      <td>2073</td>\n",
       "      <td>4826700</td>\n",
       "    </tr>\n",
       "    <tr>\n",
       "      <th>96</th>\n",
       "      <td>697</td>\n",
       "      <td>63</td>\n",
       "      <td>2120</td>\n",
       "      <td>6800800</td>\n",
       "    </tr>\n",
       "    <tr>\n",
       "      <th>97</th>\n",
       "      <td>698</td>\n",
       "      <td>33</td>\n",
       "      <td>1411</td>\n",
       "      <td>6517500</td>\n",
       "    </tr>\n",
       "    <tr>\n",
       "      <th>98</th>\n",
       "      <td>699</td>\n",
       "      <td>47</td>\n",
       "      <td>1715</td>\n",
       "      <td>6812100</td>\n",
       "    </tr>\n",
       "    <tr>\n",
       "      <th>99</th>\n",
       "      <td>700</td>\n",
       "      <td>31</td>\n",
       "      <td>1785</td>\n",
       "      <td>5583200</td>\n",
       "    </tr>\n",
       "  </tbody>\n",
       "</table>\n",
       "<p>100 rows × 4 columns</p>\n",
       "</div>"
      ],
      "text/plain": [
       "     Id  SQUARE_METERS  METRO_DISTANCE    PRICE\n",
       "0   601             28             677  7328400\n",
       "1   602             54             120  9754600\n",
       "2   603             43            1344  6781500\n",
       "3   604             33            1003  6784100\n",
       "4   605             30             591  7296200\n",
       "..  ...            ...             ...      ...\n",
       "95  696             28            2073  4826700\n",
       "96  697             63            2120  6800800\n",
       "97  698             33            1411  6517500\n",
       "98  699             47            1715  6812100\n",
       "99  700             31            1785  5583200\n",
       "\n",
       "[100 rows x 4 columns]"
      ]
     },
     "execution_count": 404,
     "metadata": {},
     "output_type": "execute_result"
    }
   ],
   "source": [
    "df = pd.read_csv('flats.csv', delimiter=',')\n",
    "df"
   ]
  },
  {
   "cell_type": "markdown",
   "metadata": {},
   "source": [
    "#### Проверим, что данные не содержать пропусков"
   ]
  },
  {
   "cell_type": "code",
   "execution_count": 405,
   "metadata": {},
   "outputs": [
    {
     "data": {
      "text/plain": [
       "Id                0\n",
       "SQUARE_METERS     0\n",
       "METRO_DISTANCE    0\n",
       "PRICE             0\n",
       "dtype: int64"
      ]
     },
     "execution_count": 405,
     "metadata": {},
     "output_type": "execute_result"
    }
   ],
   "source": [
    "df.apply(lambda x: sum(x.isnull()), axis=0)"
   ]
  },
  {
   "cell_type": "markdown",
   "metadata": {},
   "source": [
    "#  Модели  для прогнозирования цены квартир на основе количества квадратных метров\n"
   ]
  },
  {
   "cell_type": "markdown",
   "metadata": {},
   "source": [
    "#### Обучающая выборка 0"
   ]
  },
  {
   "cell_type": "code",
   "execution_count": 406,
   "metadata": {},
   "outputs": [
    {
     "data": {
      "text/plain": [
       "0.5616015128375316"
      ]
     },
     "execution_count": 406,
     "metadata": {},
     "output_type": "execute_result"
    }
   ],
   "source": [
    "X_square_meters_0 = pd.DataFrame(df[df['Id'] % 5 != 0]['SQUARE_METERS'])\n",
    "y_0 = pd.DataFrame(df[df['Id'] % 5 != 0]['PRICE'])\n",
    "\n",
    "# тестовая выборка 0\n",
    "X_square_meters_test_0 = pd.DataFrame(df[df['Id'] % 5 == 0]['SQUARE_METERS'])\n",
    "y_test_0 = pd.DataFrame(df[df['Id'] % 5 == 0]['PRICE'])\n",
    "\n",
    "# обучение\n",
    "model0 = LinearRegression()\n",
    "model0.fit(X_square_meters_0, y_0)\n",
    "\n",
    "# тест\n",
    "model0.score(X_square_meters_test_0, y_test_0)"
   ]
  },
  {
   "cell_type": "markdown",
   "metadata": {},
   "source": [
    "#### Обучающая выборка 1"
   ]
  },
  {
   "cell_type": "code",
   "execution_count": 407,
   "metadata": {},
   "outputs": [
    {
     "data": {
      "text/plain": [
       "0.345115071153397"
      ]
     },
     "execution_count": 407,
     "metadata": {},
     "output_type": "execute_result"
    }
   ],
   "source": [
    "X_square_meters_1 = pd.DataFrame(df[df['Id'] % 5 != 1]['SQUARE_METERS'])\n",
    "y_1 = pd.DataFrame(df[df['Id'] % 5 != 1]['PRICE'])\n",
    "\n",
    "# тестовая выборка 1\n",
    "X_square_meters_test_1 = pd.DataFrame(df[df['Id'] % 5 == 1]['SQUARE_METERS'])\n",
    "y_test_1 = pd.DataFrame(df[df['Id'] % 5 == 1]['PRICE'])\n",
    "\n",
    "# обучение\n",
    "model1 = LinearRegression()\n",
    "model1.fit(X_square_meters_1, y_1)\n",
    "\n",
    "# тест\n",
    "model1.score(X_square_meters_test_1, y_test_1)"
   ]
  },
  {
   "cell_type": "markdown",
   "metadata": {},
   "source": [
    "#### Обучающая выборка 2"
   ]
  },
  {
   "cell_type": "code",
   "execution_count": 408,
   "metadata": {},
   "outputs": [
    {
     "data": {
      "text/plain": [
       "0.3573063734113485"
      ]
     },
     "execution_count": 408,
     "metadata": {},
     "output_type": "execute_result"
    }
   ],
   "source": [
    "X_square_meters_2 = pd.DataFrame(df[df['Id'] % 5 != 2]['SQUARE_METERS'])\n",
    "y_2 = pd.DataFrame(df[df['Id'] % 5 != 2]['PRICE'])\n",
    "\n",
    "# тестовая выборка 2\n",
    "X_square_meters_test_2 = pd.DataFrame(df[df['Id'] % 5 == 2]['SQUARE_METERS'])\n",
    "y_test_2 = pd.DataFrame(df[df['Id'] % 5 == 2]['PRICE'])\n",
    "\n",
    "# обучение\n",
    "model2 = LinearRegression()\n",
    "model2.fit(X_square_meters_2, y_2)\n",
    "\n",
    "# тест\n",
    "model2.score(X_square_meters_test_2, y_test_2)"
   ]
  },
  {
   "cell_type": "markdown",
   "metadata": {},
   "source": [
    "#### обучающая выборка 3"
   ]
  },
  {
   "cell_type": "code",
   "execution_count": 409,
   "metadata": {},
   "outputs": [
    {
     "data": {
      "text/plain": [
       "0.4409671483711033"
      ]
     },
     "execution_count": 409,
     "metadata": {},
     "output_type": "execute_result"
    }
   ],
   "source": [
    "X_square_meters_3 = pd.DataFrame(df[df['Id'] % 5 != 3]['SQUARE_METERS'])\n",
    "y_3 = pd.DataFrame(df[df['Id'] % 5 != 3]['PRICE'])\n",
    "\n",
    "# тестовая выборка 3\n",
    "X_square_meters_test_3 = pd.DataFrame(df[df['Id'] % 5 == 3]['SQUARE_METERS'])\n",
    "y_test_3 = pd.DataFrame(df[df['Id'] % 5 == 3]['PRICE'])\n",
    "\n",
    "# обучение\n",
    "model3 = LinearRegression()\n",
    "model3.fit(X_square_meters_3, y_3)\n",
    "\n",
    "# тест\n",
    "model3.score(X_square_meters_test_3, y_test_3)"
   ]
  },
  {
   "cell_type": "markdown",
   "metadata": {},
   "source": [
    "#### обучающая выборка 4"
   ]
  },
  {
   "cell_type": "code",
   "execution_count": 410,
   "metadata": {},
   "outputs": [
    {
     "data": {
      "text/plain": [
       "0.45990627071897305"
      ]
     },
     "execution_count": 410,
     "metadata": {},
     "output_type": "execute_result"
    }
   ],
   "source": [
    "X_square_meters_4 = pd.DataFrame(df[df['Id'] % 5 != 4]['SQUARE_METERS'])\n",
    "y_4 = pd.DataFrame(df[df['Id'] % 5 != 4]['PRICE'])\n",
    "\n",
    "# тестовая выборка 4\n",
    "X_square_meters_test_4 = pd.DataFrame(df[df['Id'] % 5 == 4]['SQUARE_METERS'])\n",
    "y_test_4 = pd.DataFrame(df[df['Id'] % 5 == 4]['PRICE'])\n",
    "\n",
    "# обучение\n",
    "model4 = LinearRegression()\n",
    "model4.fit(X_square_meters_4, y_4)\n",
    "\n",
    "# тест\n",
    "model4.score(X_square_meters_test_4, y_test_4)"
   ]
  },
  {
   "cell_type": "markdown",
   "metadata": {},
   "source": [
    "### Обучение и тест на всех данных"
   ]
  },
  {
   "cell_type": "code",
   "execution_count": 411,
   "metadata": {},
   "outputs": [
    {
     "data": {
      "text/plain": [
       "0.45222058564965084"
      ]
     },
     "execution_count": 411,
     "metadata": {},
     "output_type": "execute_result"
    }
   ],
   "source": [
    "# обучающая выборка \n",
    "X_square_meters = pd.DataFrame(df['SQUARE_METERS'])\n",
    "y = pd.DataFrame(df['PRICE'])\n",
    "\n",
    "# обучение\n",
    "model = LinearRegression()\n",
    "model.fit(X_square_meters, y)\n",
    "\n",
    "# тест\n",
    "model.score(X_square_meters, y)"
   ]
  },
  {
   "cell_type": "code",
   "execution_count": 412,
   "metadata": {
    "scrolled": true
   },
   "outputs": [
    {
     "data": {
      "text/html": [
       "<div>\n",
       "<style scoped>\n",
       "    .dataframe tbody tr th:only-of-type {\n",
       "        vertical-align: middle;\n",
       "    }\n",
       "\n",
       "    .dataframe tbody tr th {\n",
       "        vertical-align: top;\n",
       "    }\n",
       "\n",
       "    .dataframe thead th {\n",
       "        text-align: right;\n",
       "    }\n",
       "</style>\n",
       "<table border=\"1\" class=\"dataframe\">\n",
       "  <thead>\n",
       "    <tr style=\"text-align: right;\">\n",
       "      <th></th>\n",
       "      <th>predictor</th>\n",
       "      <th>coef</th>\n",
       "    </tr>\n",
       "  </thead>\n",
       "  <tbody>\n",
       "    <tr>\n",
       "      <th>0</th>\n",
       "      <td>intercept</td>\n",
       "      <td>[4292935.814524662]</td>\n",
       "    </tr>\n",
       "    <tr>\n",
       "      <th>1</th>\n",
       "      <td>SQUARE_METERS</td>\n",
       "      <td>[62148.729304720386]</td>\n",
       "    </tr>\n",
       "  </tbody>\n",
       "</table>\n",
       "</div>"
      ],
      "text/plain": [
       "       predictor                  coef\n",
       "0      intercept   [4292935.814524662]\n",
       "1  SQUARE_METERS  [62148.729304720386]"
      ]
     },
     "execution_count": 412,
     "metadata": {},
     "output_type": "execute_result"
    }
   ],
   "source": [
    "coef_0 = pd.DataFrame(zip(['intercept'] + X_square_meters.columns.tolist(), [model.intercept_] + model.coef_.tolist()),\n",
    "                    columns=['predictor', 'coef'])\n",
    "coef_0"
   ]
  },
  {
   "cell_type": "markdown",
   "metadata": {},
   "source": [
    "### Прогнозные значения"
   ]
  },
  {
   "cell_type": "code",
   "execution_count": 413,
   "metadata": {
    "scrolled": false
   },
   "outputs": [
    {
     "data": {
      "image/png": "[encoded data removed]",
      "text/plain": [
       "<Figure size 576x504 with 1 Axes>"
      ]
     },
     "metadata": {
      "needs_background": "light"
     },
     "output_type": "display_data"
    }
   ],
   "source": [
    "data_0 = pd.DataFrame(df['SQUARE_METERS'] * coef_0['coef'][1][0] + coef_0['coef'][0][0]).rename(columns={'SQUARE_METERS': 'PRICE'})\n",
    "data_0['SQUARE_METERS'] = df['SQUARE_METERS']\n",
    "\n",
    "fig, ax = plt.subplots(1, 1, figsize = (8, 7))\n",
    "sns.regplot(x=data_0['SQUARE_METERS'], y=data_0['PRICE'], fit_reg=True)\n",
    "plt.show()"
   ]
  },
  {
   "cell_type": "markdown",
   "metadata": {},
   "source": [
    "### Настоящие значения"
   ]
  },
  {
   "cell_type": "code",
   "execution_count": 415,
   "metadata": {
    "scrolled": false
   },
   "outputs": [
    {
     "data": {
      "image/png": "[encoded data removed]",
      "text/plain": [
       "<Figure size 576x504 with 1 Axes>"
      ]
     },
     "metadata": {
      "needs_background": "light"
     },
     "output_type": "display_data"
    }
   ],
   "source": [
    "fig, ax = plt.subplots(1, 1, figsize = (8, 7))\n",
    "sns.regplot(x=df['SQUARE_METERS'], y=df['PRICE'], fit_reg=True)\n",
    "plt.show()"
   ]
  },
  {
   "cell_type": "markdown",
   "metadata": {},
   "source": [
    "### Метрики качества"
   ]
  },
  {
   "cell_type": "code",
   "execution_count": 416,
   "metadata": {},
   "outputs": [
    {
     "data": {
      "text/html": [
       "<div>\n",
       "<style scoped>\n",
       "    .dataframe tbody tr th:only-of-type {\n",
       "        vertical-align: middle;\n",
       "    }\n",
       "\n",
       "    .dataframe tbody tr th {\n",
       "        vertical-align: top;\n",
       "    }\n",
       "\n",
       "    .dataframe thead th {\n",
       "        text-align: right;\n",
       "    }\n",
       "</style>\n",
       "<table border=\"1\" class=\"dataframe\">\n",
       "  <thead>\n",
       "    <tr style=\"text-align: right;\">\n",
       "      <th></th>\n",
       "      <th>quality metrics</th>\n",
       "      <th>value</th>\n",
       "    </tr>\n",
       "  </thead>\n",
       "  <tbody>\n",
       "    <tr>\n",
       "      <th>0</th>\n",
       "      <td>MAE</td>\n",
       "      <td>9.902619e+05</td>\n",
       "    </tr>\n",
       "    <tr>\n",
       "      <th>1</th>\n",
       "      <td>RMSE</td>\n",
       "      <td>1.141985e+06</td>\n",
       "    </tr>\n",
       "    <tr>\n",
       "      <th>2</th>\n",
       "      <td>MAPE</td>\n",
       "      <td>1.569379e+01</td>\n",
       "    </tr>\n",
       "    <tr>\n",
       "      <th>3</th>\n",
       "      <td>MAD</td>\n",
       "      <td>8.585872e+06</td>\n",
       "    </tr>\n",
       "    <tr>\n",
       "      <th>4</th>\n",
       "      <td>R^2</td>\n",
       "      <td>4.522206e-01</td>\n",
       "    </tr>\n",
       "    <tr>\n",
       "      <th>5</th>\n",
       "      <td>Theil inequality coef</td>\n",
       "      <td>1.157447e-01</td>\n",
       "    </tr>\n",
       "  </tbody>\n",
       "</table>\n",
       "</div>"
      ],
      "text/plain": [
       "         quality metrics         value\n",
       "0                    MAE  9.902619e+05\n",
       "1                   RMSE  1.141985e+06\n",
       "2                   MAPE  1.569379e+01\n",
       "3                    MAD  8.585872e+06\n",
       "4                    R^2  4.522206e-01\n",
       "5  Theil inequality coef  1.157447e-01"
      ]
     },
     "execution_count": 416,
     "metadata": {},
     "output_type": "execute_result"
    }
   ],
   "source": [
    "# MAE (Mean absolute error)\n",
    "MAE = 0\n",
    "for i in range(len(data_1)):\n",
    "    MAE += abs(df['PRICE'][i] - (df['SQUARE_METERS'][i] * coef_0['coef'][1][0] + coef_0['coef'][0][0]))\n",
    "MAE = MAE / len(data_1)\n",
    "\n",
    "#RMSE ((Root Mean Square Error)\n",
    "RMSE = 0\n",
    "for i in range(len(data_1)):\n",
    "    RMSE += (df['PRICE'][i] - (df['SQUARE_METERS'][i] * coef_0['coef'][1][0] + coef_0['coef'][0][0])) ** 2\n",
    "RMSE = ((RMSE / len(data_1)) ** 0.5)\n",
    "\n",
    "# MAPE (Mean absolute percentage error)\n",
    "MAPE = 0\n",
    "for i in range(len(data_1)):\n",
    "    MAPE += (abs(df['PRICE'][i] - (df['SQUARE_METERS'][i] * coef_0['coef'][1][0] + coef_0['coef'][0][0])) / df['PRICE'][i])\n",
    "MAPE = (MAPE / len(data_1)) * 100\n",
    "\n",
    "# MAD (Median absolute deviation)\n",
    "MAD = 0\n",
    "for i in range(len(data_1)):\n",
    "    MAD += abs(df['PRICE'].mean() - df['SQUARE_METERS'][i] * coef_0['coef'][1][0] + coef_0['coef'][0][0])\n",
    "MAD = MAD / len(data_1)\n",
    "\n",
    "# R^2 (coefficient of determination)\n",
    "# difference between actual value and mean\n",
    "act_mean = 0\n",
    "# difference between predicted value and mean\n",
    "pred_mean = 0\n",
    "RR = 0\n",
    "for i in range(len(data_1)):\n",
    "    act_mean += (df['PRICE'].mean() - df['PRICE'][i]) ** 2\n",
    "    pred_mean += (df['PRICE'].mean() - (df['SQUARE_METERS'][i] * coef_0['coef'][1][0] + coef_0['coef'][0][0])) ** 2\n",
    "RR = pred_mean / act_mean\n",
    "\n",
    "# Theil inequality coefficient\n",
    "thiel = 0\n",
    "act = 0\n",
    "pred = 0\n",
    "act_pred = 0\n",
    "for i in range(len(data_1)):\n",
    "    act_pred += (df['PRICE'][i] - (df['SQUARE_METERS'][i] * coef_0['coef'][1][0] + coef_0['coef'][0][0])) ** 2\n",
    "    act += df['PRICE'][i] ** 2\n",
    "    pred += (df['SQUARE_METERS'][i] * coef_0['coef'][1][0] + coef_0['coef'][0][0]) ** 2\n",
    "thiel = (act_pred / (act + pred)) ** 0.5\n",
    "\n",
    "quality_metrics = pd.DataFrame({'quality metrics': ['MAE', 'RMSE', 'MAPE', 'MAD', 'R^2', 'Theil inequality coef'], \n",
    "                                'value': [MAE, RMSE, MAPE, MAD, RR, thiel]})\n",
    "quality_metrics"
   ]
  },
  {
   "cell_type": "markdown",
   "metadata": {},
   "source": [
    "# Модели  для прогнозирования цены квартир на основе расстояния до метро"
   ]
  },
  {
   "cell_type": "markdown",
   "metadata": {},
   "source": [
    "#### обучающая выборка 0"
   ]
  },
  {
   "cell_type": "code",
   "execution_count": 417,
   "metadata": {},
   "outputs": [
    {
     "data": {
      "text/plain": [
       "0.6232654880930808"
      ]
     },
     "execution_count": 417,
     "metadata": {},
     "output_type": "execute_result"
    }
   ],
   "source": [
    "X_metro_distance_0 = pd.DataFrame(df[df['Id'] % 5 != 0]['METRO_DISTANCE'])\n",
    "y_0 = pd.DataFrame(df[df['Id'] % 5 != 0]['PRICE'])\n",
    "\n",
    "# тестовая выборка 0\n",
    "X_metro_distance_test_0 = pd.DataFrame(df[df['Id'] % 5 == 0]['METRO_DISTANCE'])\n",
    "y_test_0 = pd.DataFrame(df[df['Id'] % 5 == 0]['PRICE'])\n",
    "\n",
    "# обучение\n",
    "model0 = LinearRegression()\n",
    "model0.fit(X_metro_distance_0, y_0)\n",
    "\n",
    "# тест\n",
    "model0.score(X_metro_distance_test_0, y_test_0)"
   ]
  },
  {
   "cell_type": "markdown",
   "metadata": {},
   "source": [
    "#### обучающая выборка 1"
   ]
  },
  {
   "cell_type": "code",
   "execution_count": 418,
   "metadata": {},
   "outputs": [
    {
     "data": {
      "text/plain": [
       "0.5076563029563235"
      ]
     },
     "execution_count": 418,
     "metadata": {},
     "output_type": "execute_result"
    }
   ],
   "source": [
    "X_metro_distance_1 = pd.DataFrame(df[df['Id'] % 5 != 1]['METRO_DISTANCE'])\n",
    "y_1 = pd.DataFrame(df[df['Id'] % 5 != 1]['PRICE'])\n",
    "\n",
    "# тестовая выборка 1\n",
    "X_metro_distance_test_1 = pd.DataFrame(df[df['Id'] % 5 == 1]['METRO_DISTANCE'])\n",
    "y_test_1 = pd.DataFrame(df[df['Id'] % 5 == 1]['PRICE'])\n",
    "\n",
    "# обучение\n",
    "model1 = LinearRegression()\n",
    "model1.fit(X_metro_distance_1, y_1)\n",
    "\n",
    "# тест\n",
    "model1.score(X_metro_distance_test_1, y_test_1)"
   ]
  },
  {
   "cell_type": "markdown",
   "metadata": {},
   "source": [
    "#### обучающая выборка 2"
   ]
  },
  {
   "cell_type": "code",
   "execution_count": 419,
   "metadata": {},
   "outputs": [
    {
     "data": {
      "text/plain": [
       "0.5163214731577123"
      ]
     },
     "execution_count": 419,
     "metadata": {},
     "output_type": "execute_result"
    }
   ],
   "source": [
    "X_metro_distance_2 = pd.DataFrame(df[df['Id'] % 5 != 2]['METRO_DISTANCE'])\n",
    "y_2 = pd.DataFrame(df[df['Id'] % 5 != 2]['PRICE'])\n",
    "\n",
    "# тестовая выборка 2\n",
    "X_metro_distance_test_2 = pd.DataFrame(df[df['Id'] % 5 == 2]['METRO_DISTANCE'])\n",
    "y_test_2 = pd.DataFrame(df[df['Id'] % 5 == 2]['PRICE'])\n",
    "\n",
    "# обучение\n",
    "model2 = LinearRegression()\n",
    "model2.fit(X_metro_distance_2, y_2)\n",
    "\n",
    "# тест\n",
    "model2.score(X_metro_distance_test_2, y_test_2)"
   ]
  },
  {
   "cell_type": "markdown",
   "metadata": {},
   "source": [
    "#### обучающая выборка 3"
   ]
  },
  {
   "cell_type": "code",
   "execution_count": 420,
   "metadata": {},
   "outputs": [
    {
     "data": {
      "text/plain": [
       "0.6576872991464785"
      ]
     },
     "execution_count": 420,
     "metadata": {},
     "output_type": "execute_result"
    }
   ],
   "source": [
    "X_metro_distance_3 = pd.DataFrame(df[df['Id'] % 5 != 3]['METRO_DISTANCE'])\n",
    "y_3 = pd.DataFrame(df[df['Id'] % 5 != 3]['PRICE'])\n",
    "\n",
    "# тестовая выборка 3\n",
    "X_metro_distance_test_3 = pd.DataFrame(df[df['Id'] % 5 == 3]['METRO_DISTANCE'])\n",
    "y_test_3 = pd.DataFrame(df[df['Id'] % 5 == 3]['PRICE'])\n",
    "\n",
    "# обучение\n",
    "model3 = LinearRegression()\n",
    "model3.fit(X_metro_distance_3, y_3)\n",
    "\n",
    "# тест\n",
    "model3.score(X_metro_distance_test_3, y_test_3)"
   ]
  },
  {
   "cell_type": "markdown",
   "metadata": {},
   "source": [
    "#### обучающая выборка 4"
   ]
  },
  {
   "cell_type": "code",
   "execution_count": 421,
   "metadata": {},
   "outputs": [
    {
     "data": {
      "text/plain": [
       "0.49675638977515557"
      ]
     },
     "execution_count": 421,
     "metadata": {},
     "output_type": "execute_result"
    }
   ],
   "source": [
    "X_metro_distance_4 = pd.DataFrame(df[df['Id'] % 5 != 4]['METRO_DISTANCE'])\n",
    "y_4 = pd.DataFrame(df[df['Id'] % 5 != 4]['PRICE'])\n",
    "\n",
    "# тестовая выборка 4\n",
    "X_metro_distance_test_4 = pd.DataFrame(df[df['Id'] % 5 == 4]['METRO_DISTANCE'])\n",
    "y_test_4 = pd.DataFrame(df[df['Id'] % 5 == 4]['PRICE'])\n",
    "\n",
    "# обучение\n",
    "model4 = LinearRegression()\n",
    "model4.fit(X_metro_distance_4, y_4)\n",
    "\n",
    "# тест\n",
    "model4.score(X_metro_distance_test_4, y_test_4)"
   ]
  },
  {
   "cell_type": "markdown",
   "metadata": {},
   "source": [
    "### Обучение и тест на всех данных"
   ]
  },
  {
   "cell_type": "code",
   "execution_count": 422,
   "metadata": {
    "scrolled": true
   },
   "outputs": [
    {
     "data": {
      "text/plain": [
       "0.5775983380546676"
      ]
     },
     "execution_count": 422,
     "metadata": {},
     "output_type": "execute_result"
    }
   ],
   "source": [
    "# обучающая выборка \n",
    "X_metro_distance = pd.DataFrame(df['METRO_DISTANCE'])\n",
    "y = pd.DataFrame(df['PRICE'])\n",
    "\n",
    "# обучение\n",
    "model = LinearRegression()\n",
    "model.fit(X_metro_distance, y)\n",
    "\n",
    "# тест\n",
    "model.score(X_metro_distance, y)"
   ]
  },
  {
   "cell_type": "code",
   "execution_count": 423,
   "metadata": {},
   "outputs": [
    {
     "data": {
      "text/html": [
       "<div>\n",
       "<style scoped>\n",
       "    .dataframe tbody tr th:only-of-type {\n",
       "        vertical-align: middle;\n",
       "    }\n",
       "\n",
       "    .dataframe tbody tr th {\n",
       "        vertical-align: top;\n",
       "    }\n",
       "\n",
       "    .dataframe thead th {\n",
       "        text-align: right;\n",
       "    }\n",
       "</style>\n",
       "<table border=\"1\" class=\"dataframe\">\n",
       "  <thead>\n",
       "    <tr style=\"text-align: right;\">\n",
       "      <th></th>\n",
       "      <th>predictor</th>\n",
       "      <th>coef</th>\n",
       "    </tr>\n",
       "  </thead>\n",
       "  <tbody>\n",
       "    <tr>\n",
       "      <th>0</th>\n",
       "      <td>intercept</td>\n",
       "      <td>[9003176.445034346]</td>\n",
       "    </tr>\n",
       "    <tr>\n",
       "      <th>1</th>\n",
       "      <td>METRO_DISTANCE</td>\n",
       "      <td>[-1679.0309690928532]</td>\n",
       "    </tr>\n",
       "  </tbody>\n",
       "</table>\n",
       "</div>"
      ],
      "text/plain": [
       "        predictor                   coef\n",
       "0       intercept    [9003176.445034346]\n",
       "1  METRO_DISTANCE  [-1679.0309690928532]"
      ]
     },
     "execution_count": 423,
     "metadata": {},
     "output_type": "execute_result"
    }
   ],
   "source": [
    "coef_1 = pd.DataFrame(zip(['intercept'] + X_metro_distance.columns.tolist(), [model.intercept_] + model.coef_.tolist()),\n",
    "                    columns=['predictor', 'coef'])\n",
    "coef_1"
   ]
  },
  {
   "cell_type": "markdown",
   "metadata": {},
   "source": [
    "### Прогнозные значения"
   ]
  },
  {
   "cell_type": "code",
   "execution_count": 424,
   "metadata": {},
   "outputs": [
    {
     "data": {
      "image/png": "[encoded data removed]",
      "text/plain": [
       "<Figure size 576x504 with 1 Axes>"
      ]
     },
     "metadata": {
      "needs_background": "light"
     },
     "output_type": "display_data"
    }
   ],
   "source": [
    "data_1 = pd.DataFrame(df['METRO_DISTANCE'] * coef_1['coef'][1][0] + coef_1['coef'][0][0]).rename(columns={'METRO_DISTANCE': 'PRICE'})\n",
    "data_1['METRO_DISTANCE'] = df['METRO_DISTANCE']\n",
    "\n",
    "fig, ax = plt.subplots(1, 1, figsize = (8, 7))\n",
    "sns.regplot(x=data_1['METRO_DISTANCE'], y=data_1['PRICE'], fit_reg=True)\n",
    "plt.show()"
   ]
  },
  {
   "cell_type": "markdown",
   "metadata": {},
   "source": [
    "### Настоящие значения"
   ]
  },
  {
   "cell_type": "code",
   "execution_count": 425,
   "metadata": {
    "scrolled": true
   },
   "outputs": [
    {
     "data": {
      "image/png": "[encoded data removed]",
      "text/plain": [
       "<Figure size 576x504 with 1 Axes>"
      ]
     },
     "metadata": {
      "needs_background": "light"
     },
     "output_type": "display_data"
    }
   ],
   "source": [
    "fig, ax = plt.subplots(1, 1, figsize = (8, 7))\n",
    "sns.regplot(x=df['METRO_DISTANCE'], y=df['PRICE'], fit_reg=True)\n",
    "plt.show()"
   ]
  },
  {
   "cell_type": "markdown",
   "metadata": {},
   "source": [
    "### Метрики качества\n"
   ]
  },
  {
   "cell_type": "code",
   "execution_count": 426,
   "metadata": {},
   "outputs": [
    {
     "data": {
      "text/html": [
       "<div>\n",
       "<style scoped>\n",
       "    .dataframe tbody tr th:only-of-type {\n",
       "        vertical-align: middle;\n",
       "    }\n",
       "\n",
       "    .dataframe tbody tr th {\n",
       "        vertical-align: top;\n",
       "    }\n",
       "\n",
       "    .dataframe thead th {\n",
       "        text-align: right;\n",
       "    }\n",
       "</style>\n",
       "<table border=\"1\" class=\"dataframe\">\n",
       "  <thead>\n",
       "    <tr style=\"text-align: right;\">\n",
       "      <th></th>\n",
       "      <th>quality metrics</th>\n",
       "      <th>value</th>\n",
       "    </tr>\n",
       "  </thead>\n",
       "  <tbody>\n",
       "    <tr>\n",
       "      <th>0</th>\n",
       "      <td>MAE</td>\n",
       "      <td>8.706052e+05</td>\n",
       "    </tr>\n",
       "    <tr>\n",
       "      <th>1</th>\n",
       "      <td>RMSE</td>\n",
       "      <td>1.002814e+06</td>\n",
       "    </tr>\n",
       "    <tr>\n",
       "      <th>2</th>\n",
       "      <td>MAPE</td>\n",
       "      <td>1.378039e+01</td>\n",
       "    </tr>\n",
       "    <tr>\n",
       "      <th>3</th>\n",
       "      <td>MAD</td>\n",
       "      <td>1.800635e+07</td>\n",
       "    </tr>\n",
       "    <tr>\n",
       "      <th>4</th>\n",
       "      <td>R^2</td>\n",
       "      <td>5.775983e-01</td>\n",
       "    </tr>\n",
       "    <tr>\n",
       "      <th>5</th>\n",
       "      <td>Theil inequality coef</td>\n",
       "      <td>1.014836e-01</td>\n",
       "    </tr>\n",
       "  </tbody>\n",
       "</table>\n",
       "</div>"
      ],
      "text/plain": [
       "         quality metrics         value\n",
       "0                    MAE  8.706052e+05\n",
       "1                   RMSE  1.002814e+06\n",
       "2                   MAPE  1.378039e+01\n",
       "3                    MAD  1.800635e+07\n",
       "4                    R^2  5.775983e-01\n",
       "5  Theil inequality coef  1.014836e-01"
      ]
     },
     "execution_count": 426,
     "metadata": {},
     "output_type": "execute_result"
    }
   ],
   "source": [
    "# MAE (Mean absolute error)\n",
    "MAE = 0\n",
    "for i in range(len(data_1)):\n",
    "    MAE += abs(df['PRICE'][i] - (df['METRO_DISTANCE'][i] * coef_1['coef'][1][0] + coef_1['coef'][0][0]))\n",
    "MAE = MAE / len(data_1)\n",
    "\n",
    "#RMSE ((Root Mean Square Error)\n",
    "RMSE = 0\n",
    "for i in range(len(data_1)):\n",
    "    RMSE += (df['PRICE'][i] - (df['METRO_DISTANCE'][i] * coef_1['coef'][1][0] + coef_1['coef'][0][0])) ** 2\n",
    "RMSE = ((RMSE / len(data_1)) ** 0.5)\n",
    "\n",
    "# MAPE (Mean absolute percentage error)\n",
    "MAPE = 0\n",
    "for i in range(len(data_1)):\n",
    "    MAPE += (abs(df['PRICE'][i] - (df['METRO_DISTANCE'][i] * coef_1['coef'][1][0] + coef_1['coef'][0][0])) / df['PRICE'][i])\n",
    "MAPE = (MAPE / len(data_1)) * 100\n",
    "\n",
    "# MAD (Median absolute deviation)\n",
    "MAD = 0\n",
    "for i in range(len(data_1)):\n",
    "    MAD += abs(df['PRICE'].mean() - df['METRO_DISTANCE'][i] * coef_1['coef'][1][0] + coef_1['coef'][0][0])\n",
    "MAD = MAD / len(data_1)\n",
    "\n",
    "# R^2 (coefficient of determination)\n",
    "# difference between actual value and mean\n",
    "act_mean = 0\n",
    "# difference between predicted value and mean\n",
    "pred_mean = 0\n",
    "RR = 0\n",
    "for i in range(len(data_1)):\n",
    "    act_mean += (df['PRICE'].mean() - df['PRICE'][i]) ** 2\n",
    "    pred_mean += (df['PRICE'].mean() - (df['METRO_DISTANCE'][i] * coef_1['coef'][1][0] + coef_1['coef'][0][0])) ** 2\n",
    "RR = pred_mean / act_mean\n",
    "\n",
    "# Theil inequality coefficient\n",
    "thiel = 0\n",
    "act = 0\n",
    "pred = 0\n",
    "act_pred = 0\n",
    "for i in range(len(data_1)):\n",
    "    act_pred += (df['PRICE'][i] - (df['METRO_DISTANCE'][i] * coef_1['coef'][1][0] + coef_1['coef'][0][0])) ** 2\n",
    "    act += df['PRICE'][i] ** 2\n",
    "    pred += (df['METRO_DISTANCE'][i] * coef_1['coef'][1][0] + coef_1['coef'][0][0]) ** 2\n",
    "thiel = (act_pred / (act + pred)) ** 0.5\n",
    "\n",
    "quality_metrics = pd.DataFrame({'quality metrics': ['MAE', 'RMSE', 'MAPE', 'MAD', 'R^2', 'Theil inequality coef'], \n",
    "                                'value': [MAE, RMSE, MAPE, MAD, RR, thiel]})\n",
    "quality_metrics"
   ]
  },
  {
   "cell_type": "markdown",
   "metadata": {},
   "source": [
    "# Модели  для прогнозирования цены квартир на основе количества квадратных метров и расстояния до метро"
   ]
  },
  {
   "cell_type": "code",
   "execution_count": 427,
   "metadata": {},
   "outputs": [
    {
     "data": {
      "text/plain": [
       "0.9774581227423352"
      ]
     },
     "execution_count": 427,
     "metadata": {},
     "output_type": "execute_result"
    }
   ],
   "source": [
    "X = df.drop('PRICE', axis=1).drop('Id', axis=1)\n",
    "y = pd.DataFrame(df['PRICE'])\n",
    "\n",
    "model = LinearRegression()\n",
    "model.fit(X, y)\n",
    "\n",
    "# тест\n",
    "model.score(X, y)"
   ]
  }
 ],
 "metadata": {
  "kernelspec": {
   "display_name": "Python 3",
   "language": "python",
   "name": "python3"
  },
  "language_info": {
   "codemirror_mode": {
    "name": "ipython",
    "version": 3
   },
   "file_extension": ".py",
   "mimetype": "text/x-python",
   "name": "python",
   "nbconvert_exporter": "python",
   "pygments_lexer": "ipython3",
   "version": "3.8.3"
  }
 },
 "nbformat": 4,
 "nbformat_minor": 4
}

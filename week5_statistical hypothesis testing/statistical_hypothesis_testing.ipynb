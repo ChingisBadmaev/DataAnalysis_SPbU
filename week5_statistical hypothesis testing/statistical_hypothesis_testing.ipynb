{
 "cells": [
  {
   "cell_type": "code",
   "execution_count": 1,
   "metadata": {},
   "outputs": [],
   "source": [
    "import pandas as pd\n",
    "import numpy as np\n",
    "import matplotlib\n",
    "import matplotlib.pyplot as plt\n",
    "import math\n",
    "from scipy import stats"
   ]
  },
  {
   "cell_type": "code",
   "execution_count": 2,
   "metadata": {},
   "outputs": [
    {
     "data": {
      "text/html": [
       "<div>\n",
       "<style scoped>\n",
       "    .dataframe tbody tr th:only-of-type {\n",
       "        vertical-align: middle;\n",
       "    }\n",
       "\n",
       "    .dataframe tbody tr th {\n",
       "        vertical-align: top;\n",
       "    }\n",
       "\n",
       "    .dataframe thead th {\n",
       "        text-align: right;\n",
       "    }\n",
       "</style>\n",
       "<table border=\"1\" class=\"dataframe\">\n",
       "  <thead>\n",
       "    <tr style=\"text-align: right;\">\n",
       "      <th></th>\n",
       "      <th>Type of housing</th>\n",
       "      <th>Area</th>\n",
       "      <th>Price</th>\n",
       "      <th>Metro name</th>\n",
       "      <th>Metro distance</th>\n",
       "      <th>District</th>\n",
       "      <th>Living space</th>\n",
       "      <th>Ceiling height</th>\n",
       "      <th>Floor</th>\n",
       "      <th>Max Floor</th>\n",
       "    </tr>\n",
       "  </thead>\n",
       "  <tbody>\n",
       "    <tr>\n",
       "      <th>0</th>\n",
       "      <td>квартира</td>\n",
       "      <td>75.2</td>\n",
       "      <td>7 500 000</td>\n",
       "      <td>Технологический институт</td>\n",
       "      <td>0.3</td>\n",
       "      <td>Адмиралтейский район</td>\n",
       "      <td>50.9</td>\n",
       "      <td>3.05</td>\n",
       "      <td>4</td>\n",
       "      <td>5</td>\n",
       "    </tr>\n",
       "    <tr>\n",
       "      <th>1</th>\n",
       "      <td>квартира</td>\n",
       "      <td>112.5</td>\n",
       "      <td>12 900 000</td>\n",
       "      <td>Владимирская</td>\n",
       "      <td>1.1</td>\n",
       "      <td>Адмиралтейский район</td>\n",
       "      <td>73.0</td>\n",
       "      <td>3.60</td>\n",
       "      <td>4</td>\n",
       "      <td>6</td>\n",
       "    </tr>\n",
       "    <tr>\n",
       "      <th>2</th>\n",
       "      <td>квартира</td>\n",
       "      <td>135.6</td>\n",
       "      <td>26 929 000</td>\n",
       "      <td>Приморская</td>\n",
       "      <td>1.0</td>\n",
       "      <td>Василеостровский район</td>\n",
       "      <td>78.4</td>\n",
       "      <td>3.31</td>\n",
       "      <td>10</td>\n",
       "      <td>16</td>\n",
       "    </tr>\n",
       "    <tr>\n",
       "      <th>3</th>\n",
       "      <td>квартира</td>\n",
       "      <td>143.6</td>\n",
       "      <td>23 769 000</td>\n",
       "      <td>Приморская</td>\n",
       "      <td>1.0</td>\n",
       "      <td>Василеостровский район</td>\n",
       "      <td>76.3</td>\n",
       "      <td>3.00</td>\n",
       "      <td>4</td>\n",
       "      <td>10</td>\n",
       "    </tr>\n",
       "    <tr>\n",
       "      <th>4</th>\n",
       "      <td>квартира</td>\n",
       "      <td>163.0</td>\n",
       "      <td>24 400 000</td>\n",
       "      <td>Приморская</td>\n",
       "      <td>0.9</td>\n",
       "      <td>Василеостровский район</td>\n",
       "      <td>73.9</td>\n",
       "      <td>3.00</td>\n",
       "      <td>2</td>\n",
       "      <td>8</td>\n",
       "    </tr>\n",
       "    <tr>\n",
       "      <th>...</th>\n",
       "      <td>...</td>\n",
       "      <td>...</td>\n",
       "      <td>...</td>\n",
       "      <td>...</td>\n",
       "      <td>...</td>\n",
       "      <td>...</td>\n",
       "      <td>...</td>\n",
       "      <td>...</td>\n",
       "      <td>...</td>\n",
       "      <td>...</td>\n",
       "    </tr>\n",
       "    <tr>\n",
       "      <th>7200</th>\n",
       "      <td>квартира</td>\n",
       "      <td>50.0</td>\n",
       "      <td>5 700 000</td>\n",
       "      <td>Проспект Ветеранов</td>\n",
       "      <td>0.6</td>\n",
       "      <td>Кировский район</td>\n",
       "      <td>37.3</td>\n",
       "      <td>NaN</td>\n",
       "      <td>1</td>\n",
       "      <td>5</td>\n",
       "    </tr>\n",
       "    <tr>\n",
       "      <th>7201</th>\n",
       "      <td>квартира</td>\n",
       "      <td>39.5</td>\n",
       "      <td>5 050 000</td>\n",
       "      <td>Проспект Ветеранов</td>\n",
       "      <td>1.3</td>\n",
       "      <td>Кировский район</td>\n",
       "      <td>18.3</td>\n",
       "      <td>NaN</td>\n",
       "      <td>19</td>\n",
       "      <td>23</td>\n",
       "    </tr>\n",
       "    <tr>\n",
       "      <th>7202</th>\n",
       "      <td>квартира</td>\n",
       "      <td>40.0</td>\n",
       "      <td>4 700 000</td>\n",
       "      <td>Проспект Ветеранов</td>\n",
       "      <td>1.3</td>\n",
       "      <td>Кировский район</td>\n",
       "      <td>18.7</td>\n",
       "      <td>NaN</td>\n",
       "      <td>4</td>\n",
       "      <td>23</td>\n",
       "    </tr>\n",
       "    <tr>\n",
       "      <th>7203</th>\n",
       "      <td>квартира</td>\n",
       "      <td>35.0</td>\n",
       "      <td>4 300 000</td>\n",
       "      <td>Проспект Ветеранов</td>\n",
       "      <td>0.5</td>\n",
       "      <td>Кировский район</td>\n",
       "      <td>20.0</td>\n",
       "      <td>NaN</td>\n",
       "      <td>11</td>\n",
       "      <td>12</td>\n",
       "    </tr>\n",
       "    <tr>\n",
       "      <th>7204</th>\n",
       "      <td>квартира</td>\n",
       "      <td>35.0</td>\n",
       "      <td>4 300 000</td>\n",
       "      <td>Проспект Ветеранов</td>\n",
       "      <td>0.5</td>\n",
       "      <td>Кировский район</td>\n",
       "      <td>20.0</td>\n",
       "      <td>NaN</td>\n",
       "      <td>11</td>\n",
       "      <td>12</td>\n",
       "    </tr>\n",
       "  </tbody>\n",
       "</table>\n",
       "<p>7205 rows × 10 columns</p>\n",
       "</div>"
      ],
      "text/plain": [
       "     Type of housing   Area       Price                Metro name  \\\n",
       "0           квартира   75.2   7 500 000  Технологический институт   \n",
       "1           квартира  112.5  12 900 000              Владимирская   \n",
       "2           квартира  135.6  26 929 000                Приморская   \n",
       "3           квартира  143.6  23 769 000                Приморская   \n",
       "4           квартира  163.0  24 400 000                Приморская   \n",
       "...              ...    ...         ...                       ...   \n",
       "7200        квартира   50.0   5 700 000        Проспект Ветеранов   \n",
       "7201        квартира   39.5   5 050 000        Проспект Ветеранов   \n",
       "7202        квартира   40.0   4 700 000        Проспект Ветеранов   \n",
       "7203        квартира   35.0   4 300 000        Проспект Ветеранов   \n",
       "7204        квартира   35.0   4 300 000        Проспект Ветеранов   \n",
       "\n",
       "      Metro distance                District  Living space  Ceiling height  \\\n",
       "0                0.3    Адмиралтейский район          50.9            3.05   \n",
       "1                1.1    Адмиралтейский район          73.0            3.60   \n",
       "2                1.0  Василеостровский район          78.4            3.31   \n",
       "3                1.0  Василеостровский район          76.3            3.00   \n",
       "4                0.9  Василеостровский район          73.9            3.00   \n",
       "...              ...                     ...           ...             ...   \n",
       "7200             0.6         Кировский район          37.3             NaN   \n",
       "7201             1.3         Кировский район          18.3             NaN   \n",
       "7202             1.3         Кировский район          18.7             NaN   \n",
       "7203             0.5         Кировский район          20.0             NaN   \n",
       "7204             0.5         Кировский район          20.0             NaN   \n",
       "\n",
       "      Floor  Max Floor  \n",
       "0         4          5  \n",
       "1         4          6  \n",
       "2        10         16  \n",
       "3         4         10  \n",
       "4         2          8  \n",
       "...     ...        ...  \n",
       "7200      1          5  \n",
       "7201     19         23  \n",
       "7202      4         23  \n",
       "7203     11         12  \n",
       "7204     11         12  \n",
       "\n",
       "[7205 rows x 10 columns]"
      ]
     },
     "execution_count": 2,
     "metadata": {},
     "output_type": "execute_result"
    }
   ],
   "source": [
    "df = pd.read_csv('UPDATE_HOUSE.csv')\n",
    "df"
   ]
  },
  {
   "cell_type": "markdown",
   "metadata": {},
   "source": [
    "# Анализируем Price\n",
    "## Для этого приводим данные в подходящий вид (убираем пробелы, меняем тип на int, сортируем)\n"
   ]
  },
  {
   "cell_type": "code",
   "execution_count": 3,
   "metadata": {},
   "outputs": [],
   "source": [
    "df['Price'] = df['Price'].apply(lambda x: ''.join(x.split())).astype(int)\n",
    "df = df.sort_values('Price', kind = 'mergesort')"
   ]
  },
  {
   "cell_type": "code",
   "execution_count": 4,
   "metadata": {
    "scrolled": true
   },
   "outputs": [
    {
     "data": {
      "text/plain": [
       "446"
      ]
     },
     "execution_count": 4,
     "metadata": {},
     "output_type": "execute_result"
    }
   ],
   "source": [
    "df['Price'][df['Metro name'] == 'Проспект Ветеранов'].count()"
   ]
  },
  {
   "cell_type": "markdown",
   "metadata": {},
   "source": [
    "# Нормальность распределения.  Критерий Шапиро-Уилка"
   ]
  },
  {
   "cell_type": "code",
   "execution_count": 5,
   "metadata": {},
   "outputs": [
    {
     "data": {
      "text/plain": [
       "(array([ 1.,  1.,  5.,  3.,  4.,  7., 11., 11., 10.,  5.,  5.,  6.]),\n",
       " array([2500000., 2550000., 2600000., 2650000., 2700000., 2750000.,\n",
       "        2800000., 2850000., 2900000., 2950000., 3000000., 3050000.,\n",
       "        3100000.]),\n",
       " <a list of 12 Patch objects>)"
      ]
     },
     "execution_count": 5,
     "metadata": {},
     "output_type": "execute_result"
    },
    {
     "data": {
      "image/png": "[encoded data removed]",
      "text/plain": [
       "<Figure size 504x360 with 1 Axes>"
      ]
     },
     "metadata": {
      "needs_background": "light"
     },
     "output_type": "display_data"
    }
   ],
   "source": [
    "fig, ax = plt.subplots(1, 1, figsize = (7,5))\n",
    "plt.hist(df['Price'][df['Metro name'] == 'Проспект Ветеранов'][10:79], bins=12)"
   ]
  },
  {
   "cell_type": "code",
   "execution_count": 6,
   "metadata": {},
   "outputs": [
    {
     "name": "stdout",
     "output_type": "stream",
     "text": [
      "p-value:  0.33900144696235657\n"
     ]
    }
   ],
   "source": [
    "res = stats.shapiro(df['Price'][df['Metro name'] == 'Проспект Ветеранов'][10:79])\n",
    "print('p-value: ', res[1])"
   ]
  },
  {
   "cell_type": "code",
   "execution_count": 7,
   "metadata": {},
   "outputs": [
    {
     "name": "stdout",
     "output_type": "stream",
     "text": [
      "p-value:  0.0935351699590683\n"
     ]
    }
   ],
   "source": [
    "res = stats.shapiro(df['Price'][df['Metro name'] == 'Проспект Ветеранов'][10:90])\n",
    "print('p-value: ', res[1])"
   ]
  },
  {
   "cell_type": "code",
   "execution_count": 8,
   "metadata": {},
   "outputs": [
    {
     "name": "stdout",
     "output_type": "stream",
     "text": [
      "p-value:  2.606613236366684e-07\n"
     ]
    }
   ],
   "source": [
    "res = stats.shapiro(df['Price'][df['Metro name'] == 'Проспект Ветеранов'][0:100])\n",
    "print('p-value: ', res[1])"
   ]
  },
  {
   "cell_type": "code",
   "execution_count": 9,
   "metadata": {},
   "outputs": [
    {
     "name": "stdout",
     "output_type": "stream",
     "text": [
      "p-value:  8.896526673099315e-17\n"
     ]
    }
   ],
   "source": [
    "res = stats.shapiro(df['Price'][df['Metro name'] == 'Проспект Ветеранов'])\n",
    "print('p-value: ', res[1])"
   ]
  },
  {
   "cell_type": "markdown",
   "metadata": {},
   "source": [
    "### По критерию Шапиро-Уилка видим, что данные о жилье на Проспекте Ветеранов имееют нормальное (более менее) распределение, если рассматривать 10:79.\n"
   ]
  },
  {
   "cell_type": "markdown",
   "metadata": {},
   "source": [
    "# Зависимость цены жилья от площади. Критерий Манна-Уитни. Сравниваем медианы. Основная гипотеза -- нет влияния площади жилья на стоимость\n",
    "\n"
   ]
  },
  {
   "cell_type": "code",
   "execution_count": 10,
   "metadata": {},
   "outputs": [],
   "source": [
    "df = df.sort_values('Area', kind = 'mergesort')\n",
    "df['Area'] = df['Area'].astype(int)"
   ]
  },
  {
   "cell_type": "code",
   "execution_count": 11,
   "metadata": {
    "scrolled": true
   },
   "outputs": [],
   "source": [
    "first_part = df[0:45]\n",
    "second_part = df[5:50]\n",
    "third_part = df[45:90]"
   ]
  },
  {
   "cell_type": "code",
   "execution_count": 12,
   "metadata": {
    "scrolled": true
   },
   "outputs": [
    {
     "data": {
      "text/plain": [
       "(array([ 1.,  0.,  1.,  0.,  0.,  4.,  6., 14.,  5.,  7.,  2.,  1.,  0.,\n",
       "         3.,  1.]),\n",
       " array([1636000.        , 1816466.66666667, 1996933.33333333,\n",
       "        2177400.        , 2357866.66666667, 2538333.33333333,\n",
       "        2718800.        , 2899266.66666667, 3079733.33333333,\n",
       "        3260200.        , 3440666.66666667, 3621133.33333333,\n",
       "        3801600.        , 3982066.66666667, 4162533.33333333,\n",
       "        4343000.        ]),\n",
       " <a list of 15 Patch objects>)"
      ]
     },
     "execution_count": 12,
     "metadata": {},
     "output_type": "execute_result"
    },
    {
     "data": {
      "image/png": "[encoded data removed]",
      "text/plain": [
       "<Figure size 432x288 with 1 Axes>"
      ]
     },
     "metadata": {
      "needs_background": "light"
     },
     "output_type": "display_data"
    }
   ],
   "source": [
    "plt.hist(second_part['Price'], bins=15)"
   ]
  },
  {
   "cell_type": "code",
   "execution_count": 13,
   "metadata": {},
   "outputs": [
    {
     "data": {
      "text/plain": [
       "0.001961630769073963"
      ]
     },
     "execution_count": 13,
     "metadata": {},
     "output_type": "execute_result"
    }
   ],
   "source": [
    "stats.shapiro(first_part['Price'])[1]"
   ]
  },
  {
   "cell_type": "code",
   "execution_count": 14,
   "metadata": {
    "scrolled": true
   },
   "outputs": [
    {
     "data": {
      "text/plain": [
       "0.007707869168370962"
      ]
     },
     "execution_count": 14,
     "metadata": {},
     "output_type": "execute_result"
    }
   ],
   "source": [
    "stats.shapiro(second_part['Price'])[1]"
   ]
  },
  {
   "cell_type": "code",
   "execution_count": 15,
   "metadata": {},
   "outputs": [
    {
     "data": {
      "text/plain": [
       "0.010247628204524517"
      ]
     },
     "execution_count": 15,
     "metadata": {},
     "output_type": "execute_result"
    }
   ],
   "source": [
    "stats.shapiro(third_part['Price'])[1]"
   ]
  },
  {
   "cell_type": "code",
   "execution_count": 16,
   "metadata": {},
   "outputs": [],
   "source": [
    "def two_histograms(x, y):\n",
    "# После определения функции полезно бывает добавить её описание в таком стиле.\n",
    "# Тройные кавычки -- для обрамления многострочных строковых литералов.\n",
    "    \"\"\"\n",
    "    Функция, которая построит две гистограммы на одной картинке.\n",
    "    Дополнительно пунктирными линиями указываются средние значения выборок.\n",
    "    x: вектор pd.Series,\n",
    "    y: вектор pd.Series\n",
    "    \"\"\"\n",
    "    x.hist(alpha=0.8, bins=15)\n",
    "    y.hist(alpha=0.2, bins=15)\n",
    "    plt.axvline(x.mean(), color='red', linestyle='dashed')\n",
    "    plt.axvline(y.mean(), color='blue', linestyle='dashed')"
   ]
  },
  {
   "cell_type": "code",
   "execution_count": 17,
   "metadata": {},
   "outputs": [
    {
     "data": {
      "image/png": "[encoded data removed]",
      "text/plain": [
       "<Figure size 432x288 with 1 Axes>"
      ]
     },
     "metadata": {
      "needs_background": "light"
     },
     "output_type": "display_data"
    }
   ],
   "source": [
    "two_histograms(first_part['Price'], second_part['Price'])"
   ]
  },
  {
   "cell_type": "code",
   "execution_count": 18,
   "metadata": {},
   "outputs": [
    {
     "name": "stdout",
     "output_type": "stream",
     "text": [
      "p-value: 0.05820354130267784\n"
     ]
    }
   ],
   "source": [
    "res = stats.mannwhitneyu(first_part['Area'], second_part['Area'])\n",
    "print('p-value:', res[1])"
   ]
  },
  {
   "cell_type": "code",
   "execution_count": 19,
   "metadata": {},
   "outputs": [
    {
     "data": {
      "image/png": "[encoded data removed]",
      "text/plain": [
       "<Figure size 432x288 with 1 Axes>"
      ]
     },
     "metadata": {
      "needs_background": "light"
     },
     "output_type": "display_data"
    }
   ],
   "source": [
    "two_histograms(first_part['Price'], third_part['Price'])"
   ]
  },
  {
   "cell_type": "code",
   "execution_count": 20,
   "metadata": {},
   "outputs": [
    {
     "name": "stdout",
     "output_type": "stream",
     "text": [
      "p-value: 1.1289815843757808e-14\n"
     ]
    }
   ],
   "source": [
    "res = stats.mannwhitneyu(first_part['Area'], third_part['Area'])\n",
    "print('p-value:', res[1])"
   ]
  },
  {
   "cell_type": "markdown",
   "metadata": {},
   "source": [
    "### Видно, что при почти одинаковых сравниваемых наборах не отвергается основная гипотеза, а при разных (что и должно быть), гипотеза отвергается. Итог: Цена имеет зависимость от площади"
   ]
  },
  {
   "cell_type": "markdown",
   "metadata": {},
   "source": [
    "# Анализируем Metro distance.\n",
    "## Хотим найти нормально распределенные данные, для использования критерия Стюдента"
   ]
  },
  {
   "cell_type": "code",
   "execution_count": 3,
   "metadata": {},
   "outputs": [],
   "source": [
    "df = df.sort_values('Metro distance', kind='mergesort')"
   ]
  },
  {
   "cell_type": "code",
   "execution_count": 4,
   "metadata": {},
   "outputs": [
    {
     "data": {
      "text/plain": [
       "<matplotlib.axes._subplots.AxesSubplot at 0x254b1c5d640>"
      ]
     },
     "execution_count": 4,
     "metadata": {},
     "output_type": "execute_result"
    },
    {
     "data": {
      "image/png": "[encoded data removed]",
      "text/plain": [
       "<Figure size 432x288 with 1 Axes>"
      ]
     },
     "metadata": {
      "needs_background": "light"
     },
     "output_type": "display_data"
    }
   ],
   "source": [
    "df['Metro distance'][6000:6500].hist()"
   ]
  },
  {
   "cell_type": "code",
   "execution_count": 6,
   "metadata": {},
   "outputs": [
    {
     "data": {
      "text/plain": [
       "ShapiroResult(statistic=0.9144232869148254, pvalue=3.3256612562726246e-16)"
      ]
     },
     "execution_count": 6,
     "metadata": {},
     "output_type": "execute_result"
    }
   ],
   "source": [
    "stats.shapiro(df['Metro distance'][6000:6500])"
   ]
  },
  {
   "cell_type": "markdown",
   "metadata": {},
   "source": [
    "### Гипотеза, что коэффициент кореляции равен нулю отвергнута"
   ]
  },
  {
   "cell_type": "code",
   "execution_count": 24,
   "metadata": {},
   "outputs": [
    {
     "data": {
      "text/plain": [
       "<matplotlib.collections.PathCollection at 0x26328c8d460>"
      ]
     },
     "execution_count": 24,
     "metadata": {},
     "output_type": "execute_result"
    },
    {
     "data": {
      "image/png": "[encoded data removed]",
      "text/plain": [
       "<Figure size 432x288 with 1 Axes>"
      ]
     },
     "metadata": {
      "needs_background": "light"
     },
     "output_type": "display_data"
    }
   ],
   "source": [
    "plt.scatter(df['Price'][df['District'] == 'Петродворцовый район'][100:250], df['Area'][df['District'] == 'Петродворцовый район'][100:250])"
   ]
  },
  {
   "cell_type": "code",
   "execution_count": 25,
   "metadata": {},
   "outputs": [
    {
     "name": "stdout",
     "output_type": "stream",
     "text": [
      "Pearson rho:  0.8607948852499918\n",
      "p-value:  2.939970931692348e-45\n"
     ]
    }
   ],
   "source": [
    "res = stats.pearsonr(df['Price'][df['District'] == 'Петродворцовый район'][100:250], df['Area'][df['District'] == 'Петродворцовый район'][100:250])\n",
    "print('Pearson rho: ', res[0])\n",
    "print('p-value: ', res[1])"
   ]
  },
  {
   "cell_type": "code",
   "execution_count": 26,
   "metadata": {
    "scrolled": true
   },
   "outputs": [
    {
     "data": {
      "text/plain": [
       "(array([  1.,   4.,   7.,  10.,  22.,  79., 279., 593., 275., 271., 556.,\n",
       "        433., 325., 173., 155., 152.,  51.,  67., 106.,  35.,  23.,  15.,\n",
       "          4.,   3.,   8.,   3.,   5.,   3.,   4.,   6.,   5.,   0.,   2.,\n",
       "          3.,   2.,   2.,   2.,   3.,   4.,   1.,   4.,   0.,   1.,   2.,\n",
       "          0.,   0.,   0.,   0.,   0.,   1.]),\n",
       " array([6.20411998, 6.24833705, 6.29255412, 6.33677118, 6.38098825,\n",
       "        6.42520532, 6.46942239, 6.51363945, 6.55785652, 6.60207359,\n",
       "        6.64629066, 6.69050772, 6.73472479, 6.77894186, 6.82315892,\n",
       "        6.86737599, 6.91159306, 6.95581013, 7.00002719, 7.04424426,\n",
       "        7.08846133, 7.1326784 , 7.17689546, 7.22111253, 7.2653296 ,\n",
       "        7.30954667, 7.35376373, 7.3979808 , 7.44219787, 7.48641493,\n",
       "        7.530632  , 7.57484907, 7.61906614, 7.6632832 , 7.70750027,\n",
       "        7.75171734, 7.79593441, 7.84015147, 7.88436854, 7.92858561,\n",
       "        7.97280267, 8.01701974, 8.06123681, 8.10545388, 8.14967094,\n",
       "        8.19388801, 8.23810508, 8.28232215, 8.32653921, 8.37075628,\n",
       "        8.41497335]),\n",
       " <a list of 50 Patch objects>)"
      ]
     },
     "execution_count": 26,
     "metadata": {},
     "output_type": "execute_result"
    },
    {
     "data": {
      "image/png": "[encoded data removed]",
      "text/plain": [
       "<Figure size 864x720 with 1 Axes>"
      ]
     },
     "metadata": {
      "needs_background": "light"
     },
     "output_type": "display_data"
    }
   ],
   "source": [
    "fig, ax = plt.subplots(1, 1, figsize = (12,10))\n",
    "plt.hist(np.log10(df['Price'][1300:5000]), bins=50)"
   ]
  },
  {
   "cell_type": "code",
   "execution_count": 27,
   "metadata": {},
   "outputs": [
    {
     "name": "stdout",
     "output_type": "stream",
     "text": [
      "p-value:  0.0\n"
     ]
    }
   ],
   "source": [
    "res = stats.shapiro(df['Price'][1300:6000])\n",
    "print('p-value: ', res[1])"
   ]
  },
  {
   "cell_type": "markdown",
   "metadata": {},
   "source": [
    "# Анализируем Floor \n",
    "## Хотим найти нормально распределенные данные, для использования критерия Стюдента"
   ]
  },
  {
   "cell_type": "code",
   "execution_count": 28,
   "metadata": {},
   "outputs": [
    {
     "data": {
      "text/plain": [
       "<matplotlib.axes._subplots.AxesSubplot at 0x26328d9c6d0>"
      ]
     },
     "execution_count": 28,
     "metadata": {},
     "output_type": "execute_result"
    },
    {
     "data": {
      "image/png": "[encoded data removed]",
      "text/plain": [
       "<Figure size 432x288 with 1 Axes>"
      ]
     },
     "metadata": {
      "needs_background": "light"
     },
     "output_type": "display_data"
    }
   ],
   "source": [
    "df['Floor'].hist(bins = 20)"
   ]
  },
  {
   "cell_type": "code",
   "execution_count": 29,
   "metadata": {},
   "outputs": [
    {
     "data": {
      "text/plain": [
       "(array([4.990e+02, 6.740e+02, 5.900e+02, 6.280e+02, 1.470e+03, 1.043e+03,\n",
       "        1.338e+03, 9.050e+02, 5.700e+01, 1.000e+00]),\n",
       " array([0.        , 0.17323938, 0.34647875, 0.51971813, 0.6929575 ,\n",
       "        0.86619688, 1.03943626, 1.21267563, 1.38591501, 1.55915438,\n",
       "        1.73239376]),\n",
       " <a list of 10 Patch objects>)"
      ]
     },
     "execution_count": 29,
     "metadata": {},
     "output_type": "execute_result"
    },
    {
     "data": {
      "image/png": "[encoded data removed]",
      "text/plain": [
       "<Figure size 432x288 with 1 Axes>"
      ]
     },
     "metadata": {
      "needs_background": "light"
     },
     "output_type": "display_data"
    }
   ],
   "source": [
    "plt.hist(np.log10(df['Floor']), bins=10)"
   ]
  },
  {
   "cell_type": "code",
   "execution_count": 30,
   "metadata": {},
   "outputs": [],
   "source": [
    "df = df.sort_values('Floor', kind='mergesort')\n"
   ]
  },
  {
   "cell_type": "code",
   "execution_count": 31,
   "metadata": {},
   "outputs": [
    {
     "data": {
      "text/plain": [
       "<matplotlib.axes._subplots.AxesSubplot at 0x26328e938e0>"
      ]
     },
     "execution_count": 31,
     "metadata": {},
     "output_type": "execute_result"
    },
    {
     "data": {
      "image/png": "[encoded data removed]",
      "text/plain": [
       "<Figure size 432x288 with 1 Axes>"
      ]
     },
     "metadata": {
      "needs_background": "light"
     },
     "output_type": "display_data"
    }
   ],
   "source": [
    "df['Floor'][4300:6000].hist(bins = 10)"
   ]
  },
  {
   "cell_type": "code",
   "execution_count": 33,
   "metadata": {
    "scrolled": true
   },
   "outputs": [
    {
     "data": {
      "text/plain": [
       "<matplotlib.axes._subplots.AxesSubplot at 0x26328eebbb0>"
      ]
     },
     "execution_count": 33,
     "metadata": {},
     "output_type": "execute_result"
    },
    {
     "data": {
      "image/png": "[encoded data removed]",
      "text/plain": [
       "<Figure size 432x288 with 1 Axes>"
      ]
     },
     "metadata": {
      "needs_background": "light"
     },
     "output_type": "display_data"
    }
   ],
   "source": [
    "np.log10(df['Floor'][4500:6000]).hist()"
   ]
  },
  {
   "cell_type": "code",
   "execution_count": 34,
   "metadata": {
    "scrolled": true
   },
   "outputs": [
    {
     "data": {
      "text/plain": [
       "ShapiroResult(statistic=0.9325056672096252, pvalue=1.705351862816764e-25)"
      ]
     },
     "execution_count": 34,
     "metadata": {},
     "output_type": "execute_result"
    }
   ],
   "source": [
    "stats.shapiro(rev(df['Floor'][4500:6000]))"
   ]
  },
  {
   "cell_type": "markdown",
   "metadata": {},
   "source": [
    "### Хотел найти нормальное распределение среди имеющихся данных. Не получилось :(                                      Тогда сгенерируем "
   ]
  },
  {
   "cell_type": "code",
   "execution_count": 35,
   "metadata": {},
   "outputs": [],
   "source": [
    "import random"
   ]
  },
  {
   "cell_type": "code",
   "execution_count": 36,
   "metadata": {},
   "outputs": [
    {
     "data": {
      "image/png": "[encoded data removed]",
      "text/plain": [
       "<Figure size 432x288 with 1 Axes>"
      ]
     },
     "metadata": {
      "needs_background": "light"
     },
     "output_type": "display_data"
    }
   ],
   "source": [
    "mu_x = random.uniform(0.0, 1.0)\n",
    "mu_y = random.uniform(0.0, 1.0)\n",
    "x = np.random.normal(mu_x, 2, 5000)\n",
    "y = np.random.normal(mu_y, 4, 5000)\n",
    "\n",
    "plt.axvline(x.mean(), color='red', linestyle='dashed')\n",
    "plt.axvline(y.mean(), color='blue', linestyle='dashed')\n",
    "\n",
    "plt.hist([x, y], bins=20)\n",
    "plt.show()"
   ]
  },
  {
   "cell_type": "code",
   "execution_count": 37,
   "metadata": {},
   "outputs": [
    {
     "name": "stdout",
     "output_type": "stream",
     "text": [
      "p-values:  0.33027058839797974 0.9046659469604492\n"
     ]
    }
   ],
   "source": [
    "print('p-values: ', stats.shapiro(x)[1], stats.shapiro(y)[1])"
   ]
  },
  {
   "cell_type": "markdown",
   "metadata": {},
   "source": [
    "### p-value в обоих случаях получилось больше, чем alpha, т.е. данные нормально распределены"
   ]
  },
  {
   "cell_type": "code",
   "execution_count": 38,
   "metadata": {},
   "outputs": [
    {
     "data": {
      "text/plain": [
       "6.856472670398631e-06"
      ]
     },
     "execution_count": 38,
     "metadata": {},
     "output_type": "execute_result"
    }
   ],
   "source": [
    "stats.ttest_ind(x,y)[1]"
   ]
  },
  {
   "cell_type": "markdown",
   "metadata": {},
   "source": [
    "### e-06 => Гипотеза о равенстве средних отвергается"
   ]
  },
  {
   "cell_type": "code",
   "execution_count": 39,
   "metadata": {},
   "outputs": [
    {
     "name": "stdout",
     "output_type": "stream",
     "text": [
      "x.mean():  0.942718976889275 \n",
      " y.mean():  0.6592009124966739\n"
     ]
    }
   ],
   "source": [
    "print('x.mean(): ', x.mean(), '\\n', 'y.mean(): ', y.mean())"
   ]
  }
 ],
 "metadata": {
  "kernelspec": {
   "display_name": "Python 3",
   "language": "python",
   "name": "python3"
  },
  "language_info": {
   "codemirror_mode": {
    "name": "ipython",
    "version": 3
   },
   "file_extension": ".py",
   "mimetype": "text/x-python",
   "name": "python",
   "nbconvert_exporter": "python",
   "pygments_lexer": "ipython3",
   "version": "3.8.3"
  }
 },
 "nbformat": 4,
 "nbformat_minor": 4
}
